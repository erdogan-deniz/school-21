{
 "cells": [
  {
   "cell_type": "markdown",
   "id": "34138e90",
   "metadata": {},
   "source": [
    "# **Description of recipes**"
   ]
  },
  {
   "cell_type": "markdown",
   "id": "eed10058",
   "metadata": {},
   "source": [
    "## Configuration:"
   ]
  },
  {
   "cell_type": "markdown",
   "id": "91bb0256",
   "metadata": {},
   "source": [
    "Import necessary entities:"
   ]
  },
  {
   "cell_type": "code",
   "execution_count": null,
   "id": "cfa1c3c0",
   "metadata": {},
   "outputs": [],
   "source": [
    "import os\n",
    "import sys\n",
    "\n",
    "sys.path.append(\n",
    "    os.path.abspath(\n",
    "        os.path.join(\n",
    "            os.getcwd(),\n",
    "            os.pardir,\n",
    "        ),\n",
    "    ),\n",
    ")\n",
    "\n",
    "from numpy import rint\n",
    "from pandas import (\n",
    "    DataFrame,\n",
    "    read_csv,\n",
    ")\n",
    "\n",
    "from src.models.epicurious import Epicurious"
   ]
  },
  {
   "cell_type": "markdown",
   "id": "950703c1",
   "metadata": {},
   "source": [
    "## Preprocessing:"
   ]
  },
  {
   "cell_type": "markdown",
   "id": "25935044",
   "metadata": {},
   "source": [
    "Create a dictionary for `read_csv()` function calling:"
   ]
  },
  {
   "cell_type": "code",
   "execution_count": null,
   "id": "46f50005",
   "metadata": {},
   "outputs": [],
   "source": [
    "read_csv_params: dict[str, str] = {\n",
    "    \"file\": \"food_recipes.csv\",\n",
    "\n",
    "    \"file_path\": \"../data/datasets/raw/\",\n",
    "}"
   ]
  },
  {
   "cell_type": "markdown",
   "id": "c1f5a02d",
   "metadata": {},
   "source": [
    "Read the file `food_recipes.csv` data to a *Pandas* dataframe:"
   ]
  },
  {
   "cell_type": "code",
   "execution_count": null,
   "id": "76ae7fca",
   "metadata": {},
   "outputs": [],
   "source": [
    "df: DataFrame = read_csv(\n",
    "    read_csv_params[\"file_path\"] + read_csv_params[\"file\"],\n",
    ")"
   ]
  },
  {
   "cell_type": "markdown",
   "id": "a038b90f",
   "metadata": {},
   "source": [
    "Check `df` *Pandas* dataframe:"
   ]
  },
  {
   "cell_type": "code",
   "execution_count": null,
   "id": "da994bfe",
   "metadata": {},
   "outputs": [],
   "source": [
    "df.head()"
   ]
  },
  {
   "cell_type": "markdown",
   "id": "eb9a6ef7",
   "metadata": {},
   "source": [
    "Create a `Epicurious` representative:"
   ]
  },
  {
   "cell_type": "code",
   "execution_count": null,
   "id": "6440a9a1",
   "metadata": {},
   "outputs": [],
   "source": [
    "epicurious: Epicurious = Epicurious()"
   ]
  },
  {
   "cell_type": "markdown",
   "id": "81ae756d",
   "metadata": {},
   "source": [
    "## Description of recipes:"
   ]
  },
  {
   "cell_type": "markdown",
   "id": "bed3198c",
   "metadata": {},
   "source": [
    "Create a new *Pandas* dataframe column with URL's of recipes descriptions:"
   ]
  },
  {
   "cell_type": "code",
   "execution_count": null,
   "id": "fb167580",
   "metadata": {},
   "outputs": [],
   "source": [
    "df[\"url\"] = await epicurious.fetch_recipes_urls_from_website_pages(\n",
    "    df[\"title\"],\n",
    ")"
   ]
  },
  {
   "cell_type": "markdown",
   "id": "5e34424f",
   "metadata": {},
   "source": [
    "Fill `None` values by base *Epicurious* URL:"
   ]
  },
  {
   "cell_type": "code",
   "execution_count": null,
   "id": "9c75f950",
   "metadata": {},
   "outputs": [],
   "source": [
    "df[\"url\"] = df[\"url\"].fillna(epicurious.config[\"BASE_URL\"], )"
   ]
  },
  {
   "cell_type": "markdown",
   "id": "ee1d830c",
   "metadata": {},
   "source": [
    "Convert `rating` *Pandas* dataframe column to category:"
   ]
  },
  {
   "cell_type": "code",
   "execution_count": null,
   "id": "8e364515",
   "metadata": {},
   "outputs": [],
   "source": [
    "df[\"rating\"] = rint(df[\"rating\"] + 1e-12, )"
   ]
  },
  {
   "cell_type": "markdown",
   "id": "b06ffb49",
   "metadata": {},
   "source": [
    "Check `df` *Pandas* dataframe:"
   ]
  },
  {
   "cell_type": "code",
   "execution_count": null,
   "id": "32c803a0",
   "metadata": {},
   "outputs": [],
   "source": [
    "df"
   ]
  },
  {
   "cell_type": "markdown",
   "id": "8fc641b8",
   "metadata": {},
   "source": [
    "Create a dictionary for `to_csv()` method calling:"
   ]
  },
  {
   "cell_type": "code",
   "execution_count": null,
   "id": "26dca900",
   "metadata": {},
   "outputs": [],
   "source": [
    "to_csv_params: dict[str, str] = {\n",
    "    \"file\": \"recipes_descriptions.csv\",\n",
    "\n",
    "    \"file_path\": \"../data/datasets/processed/\",\n",
    "}"
   ]
  },
  {
   "cell_type": "markdown",
   "id": "5dea962a",
   "metadata": {},
   "source": [
    "Save *Pandas* subdataframe:"
   ]
  },
  {
   "cell_type": "code",
   "execution_count": null,
   "id": "817cdad3",
   "metadata": {},
   "outputs": [],
   "source": [
    "df[[\"title\", \"rating\", \"url\"]].to_csv(\n",
    "    to_csv_params[\"file_path\"] + to_csv_params[\"file\"],\n",
    ")"
   ]
  }
 ],
 "metadata": {
  "kernelspec": {
   "display_name": ".venv",
   "language": "python",
   "name": "python3"
  },
  "language_info": {
   "codemirror_mode": {
    "name": "ipython",
    "version": 3
   },
   "file_extension": ".py",
   "mimetype": "text/x-python",
   "name": "python",
   "nbconvert_exporter": "python",
   "pygments_lexer": "ipython3",
   "version": "3.12.6"
  }
 },
 "nbformat": 4,
 "nbformat_minor": 5
}
