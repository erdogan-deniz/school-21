{
 "cells": [
  {
   "cell_type": "markdown",
   "id": "2e45b81c",
   "metadata": {},
   "source": [
    "# **Workflow**"
   ]
  },
  {
   "cell_type": "markdown",
   "id": "83c043d6",
   "metadata": {},
   "source": [
    "## Configuration:"
   ]
  },
  {
   "cell_type": "markdown",
   "id": "484ff46c",
   "metadata": {},
   "source": [
    "Import necessary entities:"
   ]
  },
  {
   "cell_type": "code",
   "execution_count": 1,
   "id": "a0950a6b",
   "metadata": {},
   "outputs": [],
   "source": [
    "import seaborn as sns\n",
    "import matplotlib.pyplot as plt\n",
    "\n",
    "from numpy import full, array\n",
    "from xgboost import XGBRegressor\n",
    "from warnings import simplefilter\n",
    "from sklearn.tree import DecisionTreeRegressor\n",
    "from sklearn.linear_model import LinearRegression\n",
    "from sklearn.model_selection import train_test_split\n",
    "from sklearn.preprocessing import PolynomialFeatures\n",
    "from sklearn.metrics import mean_absolute_error, mean_squared_error\n",
    "from pandas import (\n",
    "    Series,\n",
    "    DataFrame,\n",
    "    read_json,\n",
    "    set_option,\n",
    ")"
   ]
  },
  {
   "cell_type": "markdown",
   "id": "2ab498d5",
   "metadata": {},
   "source": [
    "Ignore all warnings:"
   ]
  },
  {
   "cell_type": "code",
   "execution_count": 2,
   "id": "63725a53",
   "metadata": {},
   "outputs": [],
   "source": [
    "simplefilter(action=\"ignore\", )"
   ]
  },
  {
   "cell_type": "markdown",
   "id": "8c054e78",
   "metadata": {},
   "source": [
    "Prepare notebook:"
   ]
  },
  {
   "cell_type": "code",
   "execution_count": 3,
   "id": "38ea3e27",
   "metadata": {},
   "outputs": [],
   "source": [
    "set_option(\"future.no_silent_downcasting\", True, )"
   ]
  },
  {
   "cell_type": "markdown",
   "id": "944ef18f",
   "metadata": {},
   "source": [
    "## Analysis:"
   ]
  },
  {
   "cell_type": "markdown",
   "id": "b19bfacd",
   "metadata": {},
   "source": [
    "* *Supervised Learning*: for each set of features values `X`, there is a answer `y`.\n",
    "  * *Regression*: for each set of features values `X`, there is a real number answer `y`.\n",
    "  * *Binary Classification*: for each set of features values `X`, there is a bool answer `y`.\n",
    "  * *Multiclass Classification*: for each set of features values `X`, there is a categorical answer `y`.\n",
    "\n",
    "* *Unsupervised Learning*: based on the set of features `X`, patterns in the data are displayed.\n",
    "  * *Clustering*: sets of feature values `X` are clustered by similarity.\n",
    "  * *Dimension Reduction*: the dimension of the `X` features is decreasing.\n",
    "  * *Association*: patterns are identified based on the set of values of the `X` features."
   ]
  },
  {
   "cell_type": "markdown",
   "id": "3b4ed2da",
   "metadata": {},
   "source": [
    "### Write `5` examples of *Machine Learning* methods application in life."
   ]
  },
  {
   "cell_type": "markdown",
   "id": "df65b7a3",
   "metadata": {},
   "source": [
    "### `What is the benefit of using Machine Learning methods?`"
   ]
  },
  {
   "cell_type": "markdown",
   "id": "ac10b1bb",
   "metadata": {},
   "source": [
    "1) Scoring of the client's credit history:\n",
    "   * Cost.\n",
    "   * Speed.\n",
    "   * Scalability.\n",
    "   * Objectivity.\n",
    "   * Reproducibility.\n",
    "\n",
    "2) Dollar price forecast:\n",
    "   * Speed.\n",
    "   * Complexity.\n",
    "   * Objectivity.\n",
    "\n",
    "3) *Clustering* of buildings by energy consumption:\n",
    "   * Complexity.\n",
    "   * Automation.\n",
    "   * Scalability.\n",
    "   * Objectivity.\n",
    "\n",
    "4) *Classification* of cars:\n",
    "   * Speed.\n",
    "   * Automation.\n",
    "   * Scalability.\n",
    "\n",
    "5) Binary classifying a message as spam or not:\n",
    "   * Speed.\n",
    "   * Complexity.\n",
    "   * Scalability.\n",
    "   * Objectivity."
   ]
  },
  {
   "cell_type": "markdown",
   "id": "7b639e35",
   "metadata": {},
   "source": [
    "### Classify tasks from table and examples to define their class:"
   ]
  },
  {
   "cell_type": "markdown",
   "id": "9db4ed35",
   "metadata": {},
   "source": [
    "* *Supervised Learning*:\n",
    "  * *Regression*:\n",
    "    - Predict house price.\n",
    "    - Dollar price forecast.\n",
    "    - Scoring of the client's credit history.\n",
    "\n",
    "  * *Binary Classification*:\n",
    "    - Predict whether a client returns a loan.\n",
    "    - Binary classifying a message as spam or not.\n",
    "    - Recognition of defective products on the production line.\n",
    "\n",
    "  * *Multiclass Classification*:\n",
    "    - *Classification* of cars.\n",
    "    - Choose what medicine out of available a patient should take.\n",
    "\n",
    "  * *Ranking*:\n",
    "    - Search sites for input text query.\n",
    "\n",
    "  * *Time Series*:\n",
    "    - Predict when a patient needs to take medicine.\n",
    "\n",
    "* *Unsupervised Learning*:\n",
    "  * *Clustering*:\n",
    "    - *Clustering* of buildings by energy consumption.\n",
    "    - Split customers of a store into segments to understand differences of\n",
    "      their behavior.\n",
    "\n",
    "  * *Association*:\n",
    "    - Choose segment of clients for a promo communication.\n",
    "\n",
    "  * *Anomaly Detection*:\n",
    "    - Detect anomaly in site traffic.\n",
    "\n",
    "* *Reinforcement Learning*:\n",
    "  - Decide how to place products on a shelf in a store."
   ]
  },
  {
   "cell_type": "markdown",
   "id": "6f0c9451",
   "metadata": {},
   "source": [
    "### Write the difference between *Multiclass Classification* and *Multilabel Classification*:"
   ]
  },
  {
   "cell_type": "markdown",
   "id": "be86445a",
   "metadata": {},
   "source": [
    "The difference between *Multiclass Classification* and *Multilabel Classification* is that for *Multiclass Classification*, we predict ONE of the classes that is most similar for a given dataset, but for *Multilabel Classification*, we predict one or MORE classes suitable."
   ]
  },
  {
   "cell_type": "markdown",
   "id": "40ad2dbb",
   "metadata": {},
   "source": [
    "### `Is an case with housing prices a regression problem?`"
   ]
  },
  {
   "cell_type": "markdown",
   "id": "835e4978",
   "metadata": {},
   "source": [
    "Answer: given the data we have and our metric, **yes**, this problem relates to regression."
   ]
  },
  {
   "cell_type": "markdown",
   "id": "165fb293",
   "metadata": {},
   "source": [
    "### `Is it possible to reduce the regression problem to classification?`"
   ]
  },
  {
   "cell_type": "markdown",
   "id": "53e3fcd7",
   "metadata": {},
   "source": [
    "Answer: yes. To transform a *Regression* problem into a *Multiclass Classification* problem, divide the range of values of `y` (target) into intverals, each of which will represent a class.\n",
    "To convert the problem into a *Binary Classification*, set a boundary, to the right of which there will be a positive class, and to the left a negative one, or vice versa."
   ]
  },
  {
   "cell_type": "markdown",
   "id": "3e149118",
   "metadata": {},
   "source": [
    "## *Data Analysis*:"
   ]
  },
  {
   "cell_type": "markdown",
   "id": "dc5df369",
   "metadata": {},
   "source": [
    "Create a dictionary for `read_csv()` function calling:"
   ]
  },
  {
   "cell_type": "code",
   "execution_count": 4,
   "id": "d6f1f672",
   "metadata": {},
   "outputs": [],
   "source": [
    "read_csv_params: dict[str, str] = {\n",
    "    \"file\": \"train.json\",\n",
    "\n",
    "    \"file_path\": \"../data/json/\",\n",
    "}"
   ]
  },
  {
   "cell_type": "markdown",
   "id": "61abd51f",
   "metadata": {},
   "source": [
    "### Load data from [Kaggle.com](https://www.kaggle.com/competitions/two-sigma-connect-rental-listing-inquiries/data) with *Pandas*:"
   ]
  },
  {
   "cell_type": "code",
   "execution_count": 5,
   "id": "dbc2dd0c",
   "metadata": {},
   "outputs": [],
   "source": [
    "first_df: DataFrame = read_json(\n",
    "    read_csv_params[\"file_path\"] + read_csv_params[\"file\"],\n",
    ")"
   ]
  },
  {
   "cell_type": "markdown",
   "id": "457a6837",
   "metadata": {},
   "source": [
    "Check `first_df` *Pandas* dataframe:"
   ]
  },
  {
   "cell_type": "code",
   "execution_count": 6,
   "id": "4b4b67dd",
   "metadata": {},
   "outputs": [
    {
     "data": {
      "text/html": [
       "<div>\n",
       "<style scoped>\n",
       "    .dataframe tbody tr th:only-of-type {\n",
       "        vertical-align: middle;\n",
       "    }\n",
       "\n",
       "    .dataframe tbody tr th {\n",
       "        vertical-align: top;\n",
       "    }\n",
       "\n",
       "    .dataframe thead th {\n",
       "        text-align: right;\n",
       "    }\n",
       "</style>\n",
       "<table border=\"1\" class=\"dataframe\">\n",
       "  <thead>\n",
       "    <tr style=\"text-align: right;\">\n",
       "      <th></th>\n",
       "      <th>bathrooms</th>\n",
       "      <th>bedrooms</th>\n",
       "      <th>building_id</th>\n",
       "      <th>created</th>\n",
       "      <th>description</th>\n",
       "      <th>display_address</th>\n",
       "      <th>features</th>\n",
       "      <th>latitude</th>\n",
       "      <th>listing_id</th>\n",
       "      <th>longitude</th>\n",
       "      <th>manager_id</th>\n",
       "      <th>photos</th>\n",
       "      <th>price</th>\n",
       "      <th>street_address</th>\n",
       "      <th>interest_level</th>\n",
       "    </tr>\n",
       "  </thead>\n",
       "  <tbody>\n",
       "    <tr>\n",
       "      <th>4</th>\n",
       "      <td>1.0</td>\n",
       "      <td>1</td>\n",
       "      <td>8579a0b0d54db803821a35a4a615e97a</td>\n",
       "      <td>2016-06-16 05:55:27</td>\n",
       "      <td>Spacious 1 Bedroom 1 Bathroom in Williamsburg!...</td>\n",
       "      <td>145 Borinquen Place</td>\n",
       "      <td>[Dining Room, Pre-War, Laundry in Building, Di...</td>\n",
       "      <td>40.7108</td>\n",
       "      <td>7170325</td>\n",
       "      <td>-73.9539</td>\n",
       "      <td>a10db4590843d78c784171a107bdacb4</td>\n",
       "      <td>[https://photos.renthop.com/2/7170325_3bb5ac84...</td>\n",
       "      <td>2400</td>\n",
       "      <td>145 Borinquen Place</td>\n",
       "      <td>medium</td>\n",
       "    </tr>\n",
       "    <tr>\n",
       "      <th>6</th>\n",
       "      <td>1.0</td>\n",
       "      <td>2</td>\n",
       "      <td>b8e75fc949a6cd8225b455648a951712</td>\n",
       "      <td>2016-06-01 05:44:33</td>\n",
       "      <td>BRAND NEW GUT RENOVATED TRUE 2 BEDROOMFind you...</td>\n",
       "      <td>East 44th</td>\n",
       "      <td>[Doorman, Elevator, Laundry in Building, Dishw...</td>\n",
       "      <td>40.7513</td>\n",
       "      <td>7092344</td>\n",
       "      <td>-73.9722</td>\n",
       "      <td>955db33477af4f40004820b4aed804a0</td>\n",
       "      <td>[https://photos.renthop.com/2/7092344_7663c19a...</td>\n",
       "      <td>3800</td>\n",
       "      <td>230 East 44th</td>\n",
       "      <td>low</td>\n",
       "    </tr>\n",
       "    <tr>\n",
       "      <th>9</th>\n",
       "      <td>1.0</td>\n",
       "      <td>2</td>\n",
       "      <td>cd759a988b8f23924b5a2058d5ab2b49</td>\n",
       "      <td>2016-06-14 15:19:59</td>\n",
       "      <td>**FLEX 2 BEDROOM WITH FULL PRESSURIZED WALL**L...</td>\n",
       "      <td>East 56th Street</td>\n",
       "      <td>[Doorman, Elevator, Laundry in Building, Laund...</td>\n",
       "      <td>40.7575</td>\n",
       "      <td>7158677</td>\n",
       "      <td>-73.9625</td>\n",
       "      <td>c8b10a317b766204f08e613cef4ce7a0</td>\n",
       "      <td>[https://photos.renthop.com/2/7158677_c897a134...</td>\n",
       "      <td>3495</td>\n",
       "      <td>405 East 56th Street</td>\n",
       "      <td>medium</td>\n",
       "    </tr>\n",
       "    <tr>\n",
       "      <th>10</th>\n",
       "      <td>1.5</td>\n",
       "      <td>3</td>\n",
       "      <td>53a5b119ba8f7b61d4e010512e0dfc85</td>\n",
       "      <td>2016-06-24 07:54:24</td>\n",
       "      <td>A Brand New 3 Bedroom 1.5 bath ApartmentEnjoy ...</td>\n",
       "      <td>Metropolitan Avenue</td>\n",
       "      <td>[]</td>\n",
       "      <td>40.7145</td>\n",
       "      <td>7211212</td>\n",
       "      <td>-73.9425</td>\n",
       "      <td>5ba989232d0489da1b5f2c45f6688adc</td>\n",
       "      <td>[https://photos.renthop.com/2/7211212_1ed4542e...</td>\n",
       "      <td>3000</td>\n",
       "      <td>792 Metropolitan Avenue</td>\n",
       "      <td>medium</td>\n",
       "    </tr>\n",
       "    <tr>\n",
       "      <th>15</th>\n",
       "      <td>1.0</td>\n",
       "      <td>0</td>\n",
       "      <td>bfb9405149bfff42a92980b594c28234</td>\n",
       "      <td>2016-06-28 03:50:23</td>\n",
       "      <td>Over-sized Studio w abundant closets. Availabl...</td>\n",
       "      <td>East 34th Street</td>\n",
       "      <td>[Doorman, Elevator, Fitness Center, Laundry in...</td>\n",
       "      <td>40.7439</td>\n",
       "      <td>7225292</td>\n",
       "      <td>-73.9743</td>\n",
       "      <td>2c3b41f588fbb5234d8a1e885a436cfa</td>\n",
       "      <td>[https://photos.renthop.com/2/7225292_901f1984...</td>\n",
       "      <td>2795</td>\n",
       "      <td>340 East 34th Street</td>\n",
       "      <td>low</td>\n",
       "    </tr>\n",
       "    <tr>\n",
       "      <th>...</th>\n",
       "      <td>...</td>\n",
       "      <td>...</td>\n",
       "      <td>...</td>\n",
       "      <td>...</td>\n",
       "      <td>...</td>\n",
       "      <td>...</td>\n",
       "      <td>...</td>\n",
       "      <td>...</td>\n",
       "      <td>...</td>\n",
       "      <td>...</td>\n",
       "      <td>...</td>\n",
       "      <td>...</td>\n",
       "      <td>...</td>\n",
       "      <td>...</td>\n",
       "      <td>...</td>\n",
       "    </tr>\n",
       "    <tr>\n",
       "      <th>124000</th>\n",
       "      <td>1.0</td>\n",
       "      <td>3</td>\n",
       "      <td>92bbbf38baadfde0576fc496bd41749c</td>\n",
       "      <td>2016-04-05 03:58:33</td>\n",
       "      <td>There is 700 square feet of recently renovated...</td>\n",
       "      <td>W 171 Street</td>\n",
       "      <td>[Elevator, Dishwasher, Hardwood Floors]</td>\n",
       "      <td>40.8433</td>\n",
       "      <td>6824800</td>\n",
       "      <td>-73.9396</td>\n",
       "      <td>a61e21da3ba18c7a3d54cfdcc247e1f8</td>\n",
       "      <td>[https://photos.renthop.com/2/6824800_0682be16...</td>\n",
       "      <td>2800</td>\n",
       "      <td>620 W 171 Street</td>\n",
       "      <td>low</td>\n",
       "    </tr>\n",
       "    <tr>\n",
       "      <th>124002</th>\n",
       "      <td>1.0</td>\n",
       "      <td>2</td>\n",
       "      <td>5565db9b7cba3603834c4aa6f2950960</td>\n",
       "      <td>2016-04-02 02:25:31</td>\n",
       "      <td>2 bedroom apartment with updated kitchen, rece...</td>\n",
       "      <td>Broadway</td>\n",
       "      <td>[Common Outdoor Space, Cats Allowed, Dogs Allo...</td>\n",
       "      <td>40.8198</td>\n",
       "      <td>6813268</td>\n",
       "      <td>-73.9578</td>\n",
       "      <td>8f90e5e10e8a2d7cf997f016d89230eb</td>\n",
       "      <td>[https://photos.renthop.com/2/6813268_1e6fcc32...</td>\n",
       "      <td>2395</td>\n",
       "      <td>3333 Broadway</td>\n",
       "      <td>medium</td>\n",
       "    </tr>\n",
       "    <tr>\n",
       "      <th>124004</th>\n",
       "      <td>1.0</td>\n",
       "      <td>1</td>\n",
       "      <td>67997a128056ee1ed7d046bbb856e3c7</td>\n",
       "      <td>2016-04-26 05:42:03</td>\n",
       "      <td>No Brokers Fee * Never Lived 1 Bedroom 1 Bathr...</td>\n",
       "      <td>210 Brighton 15th St</td>\n",
       "      <td>[Dining Room, Elevator, Pre-War, Laundry in Bu...</td>\n",
       "      <td>40.5765</td>\n",
       "      <td>6927093</td>\n",
       "      <td>-73.9554</td>\n",
       "      <td>a10db4590843d78c784171a107bdacb4</td>\n",
       "      <td>[https://photos.renthop.com/2/6927093_93a52104...</td>\n",
       "      <td>1850</td>\n",
       "      <td>210 Brighton 15th St</td>\n",
       "      <td>medium</td>\n",
       "    </tr>\n",
       "    <tr>\n",
       "      <th>124008</th>\n",
       "      <td>1.0</td>\n",
       "      <td>2</td>\n",
       "      <td>3c0574a740154806c18bdf1fddd3d966</td>\n",
       "      <td>2016-04-19 02:47:33</td>\n",
       "      <td>Wonderful Bright Chelsea 2 Bedroom apartment o...</td>\n",
       "      <td>West 21st Street</td>\n",
       "      <td>[Pre-War, Laundry in Unit, Dishwasher, No Fee,...</td>\n",
       "      <td>40.7448</td>\n",
       "      <td>6892816</td>\n",
       "      <td>-74.0017</td>\n",
       "      <td>c3cd45f4381ac371507090e9ffabea80</td>\n",
       "      <td>[https://photos.renthop.com/2/6892816_1a8d087a...</td>\n",
       "      <td>4195</td>\n",
       "      <td>350 West 21st Street</td>\n",
       "      <td>medium</td>\n",
       "    </tr>\n",
       "    <tr>\n",
       "      <th>124009</th>\n",
       "      <td>1.0</td>\n",
       "      <td>3</td>\n",
       "      <td>d89f514c3ed0abaae52cba7017ac0701</td>\n",
       "      <td>2016-04-20 05:34:00</td>\n",
       "      <td>***PRIME MIDTOWN EAST OFF PARK AVE***TRUE 3 BE...</td>\n",
       "      <td>E 54th St</td>\n",
       "      <td>[Dining Room, Elevator, Laundry in Building, D...</td>\n",
       "      <td>40.7594</td>\n",
       "      <td>6901023</td>\n",
       "      <td>-73.9712</td>\n",
       "      <td>e90f2ded843cdb2efd65ef47d9fc8029</td>\n",
       "      <td>[https://photos.renthop.com/2/6901023_02052d90...</td>\n",
       "      <td>4280</td>\n",
       "      <td>123 E 54th St</td>\n",
       "      <td>high</td>\n",
       "    </tr>\n",
       "  </tbody>\n",
       "</table>\n",
       "<p>49352 rows × 15 columns</p>\n",
       "</div>"
      ],
      "text/plain": [
       "        bathrooms  bedrooms                       building_id  \\\n",
       "4             1.0         1  8579a0b0d54db803821a35a4a615e97a   \n",
       "6             1.0         2  b8e75fc949a6cd8225b455648a951712   \n",
       "9             1.0         2  cd759a988b8f23924b5a2058d5ab2b49   \n",
       "10            1.5         3  53a5b119ba8f7b61d4e010512e0dfc85   \n",
       "15            1.0         0  bfb9405149bfff42a92980b594c28234   \n",
       "...           ...       ...                               ...   \n",
       "124000        1.0         3  92bbbf38baadfde0576fc496bd41749c   \n",
       "124002        1.0         2  5565db9b7cba3603834c4aa6f2950960   \n",
       "124004        1.0         1  67997a128056ee1ed7d046bbb856e3c7   \n",
       "124008        1.0         2  3c0574a740154806c18bdf1fddd3d966   \n",
       "124009        1.0         3  d89f514c3ed0abaae52cba7017ac0701   \n",
       "\n",
       "                    created  \\\n",
       "4       2016-06-16 05:55:27   \n",
       "6       2016-06-01 05:44:33   \n",
       "9       2016-06-14 15:19:59   \n",
       "10      2016-06-24 07:54:24   \n",
       "15      2016-06-28 03:50:23   \n",
       "...                     ...   \n",
       "124000  2016-04-05 03:58:33   \n",
       "124002  2016-04-02 02:25:31   \n",
       "124004  2016-04-26 05:42:03   \n",
       "124008  2016-04-19 02:47:33   \n",
       "124009  2016-04-20 05:34:00   \n",
       "\n",
       "                                              description  \\\n",
       "4       Spacious 1 Bedroom 1 Bathroom in Williamsburg!...   \n",
       "6       BRAND NEW GUT RENOVATED TRUE 2 BEDROOMFind you...   \n",
       "9       **FLEX 2 BEDROOM WITH FULL PRESSURIZED WALL**L...   \n",
       "10      A Brand New 3 Bedroom 1.5 bath ApartmentEnjoy ...   \n",
       "15      Over-sized Studio w abundant closets. Availabl...   \n",
       "...                                                   ...   \n",
       "124000  There is 700 square feet of recently renovated...   \n",
       "124002  2 bedroom apartment with updated kitchen, rece...   \n",
       "124004  No Brokers Fee * Never Lived 1 Bedroom 1 Bathr...   \n",
       "124008  Wonderful Bright Chelsea 2 Bedroom apartment o...   \n",
       "124009  ***PRIME MIDTOWN EAST OFF PARK AVE***TRUE 3 BE...   \n",
       "\n",
       "             display_address  \\\n",
       "4        145 Borinquen Place   \n",
       "6                  East 44th   \n",
       "9           East 56th Street   \n",
       "10       Metropolitan Avenue   \n",
       "15          East 34th Street   \n",
       "...                      ...   \n",
       "124000          W 171 Street   \n",
       "124002              Broadway   \n",
       "124004  210 Brighton 15th St   \n",
       "124008      West 21st Street   \n",
       "124009             E 54th St   \n",
       "\n",
       "                                                 features  latitude  \\\n",
       "4       [Dining Room, Pre-War, Laundry in Building, Di...   40.7108   \n",
       "6       [Doorman, Elevator, Laundry in Building, Dishw...   40.7513   \n",
       "9       [Doorman, Elevator, Laundry in Building, Laund...   40.7575   \n",
       "10                                                     []   40.7145   \n",
       "15      [Doorman, Elevator, Fitness Center, Laundry in...   40.7439   \n",
       "...                                                   ...       ...   \n",
       "124000            [Elevator, Dishwasher, Hardwood Floors]   40.8433   \n",
       "124002  [Common Outdoor Space, Cats Allowed, Dogs Allo...   40.8198   \n",
       "124004  [Dining Room, Elevator, Pre-War, Laundry in Bu...   40.5765   \n",
       "124008  [Pre-War, Laundry in Unit, Dishwasher, No Fee,...   40.7448   \n",
       "124009  [Dining Room, Elevator, Laundry in Building, D...   40.7594   \n",
       "\n",
       "        listing_id  longitude                        manager_id  \\\n",
       "4          7170325   -73.9539  a10db4590843d78c784171a107bdacb4   \n",
       "6          7092344   -73.9722  955db33477af4f40004820b4aed804a0   \n",
       "9          7158677   -73.9625  c8b10a317b766204f08e613cef4ce7a0   \n",
       "10         7211212   -73.9425  5ba989232d0489da1b5f2c45f6688adc   \n",
       "15         7225292   -73.9743  2c3b41f588fbb5234d8a1e885a436cfa   \n",
       "...            ...        ...                               ...   \n",
       "124000     6824800   -73.9396  a61e21da3ba18c7a3d54cfdcc247e1f8   \n",
       "124002     6813268   -73.9578  8f90e5e10e8a2d7cf997f016d89230eb   \n",
       "124004     6927093   -73.9554  a10db4590843d78c784171a107bdacb4   \n",
       "124008     6892816   -74.0017  c3cd45f4381ac371507090e9ffabea80   \n",
       "124009     6901023   -73.9712  e90f2ded843cdb2efd65ef47d9fc8029   \n",
       "\n",
       "                                                   photos  price  \\\n",
       "4       [https://photos.renthop.com/2/7170325_3bb5ac84...   2400   \n",
       "6       [https://photos.renthop.com/2/7092344_7663c19a...   3800   \n",
       "9       [https://photos.renthop.com/2/7158677_c897a134...   3495   \n",
       "10      [https://photos.renthop.com/2/7211212_1ed4542e...   3000   \n",
       "15      [https://photos.renthop.com/2/7225292_901f1984...   2795   \n",
       "...                                                   ...    ...   \n",
       "124000  [https://photos.renthop.com/2/6824800_0682be16...   2800   \n",
       "124002  [https://photos.renthop.com/2/6813268_1e6fcc32...   2395   \n",
       "124004  [https://photos.renthop.com/2/6927093_93a52104...   1850   \n",
       "124008  [https://photos.renthop.com/2/6892816_1a8d087a...   4195   \n",
       "124009  [https://photos.renthop.com/2/6901023_02052d90...   4280   \n",
       "\n",
       "                 street_address interest_level  \n",
       "4           145 Borinquen Place         medium  \n",
       "6                 230 East 44th            low  \n",
       "9          405 East 56th Street         medium  \n",
       "10      792 Metropolitan Avenue         medium  \n",
       "15         340 East 34th Street            low  \n",
       "...                         ...            ...  \n",
       "124000         620 W 171 Street            low  \n",
       "124002            3333 Broadway         medium  \n",
       "124004     210 Brighton 15th St         medium  \n",
       "124008     350 West 21st Street         medium  \n",
       "124009            123 E 54th St           high  \n",
       "\n",
       "[49352 rows x 15 columns]"
      ]
     },
     "execution_count": 6,
     "metadata": {},
     "output_type": "execute_result"
    }
   ],
   "source": [
    "first_df"
   ]
  },
  {
   "cell_type": "markdown",
   "id": "c979081f",
   "metadata": {},
   "source": [
    "Use a method `.info()` to check `first_df` *Pandas* dataframe size:"
   ]
  },
  {
   "cell_type": "code",
   "execution_count": 7,
   "id": "ba09dec9",
   "metadata": {},
   "outputs": [
    {
     "name": "stdout",
     "output_type": "stream",
     "text": [
      "<class 'pandas.core.frame.DataFrame'>\n",
      "Index: 49352 entries, 4 to 124009\n",
      "Data columns (total 15 columns):\n",
      " #   Column           Non-Null Count  Dtype  \n",
      "---  ------           --------------  -----  \n",
      " 0   bathrooms        49352 non-null  float64\n",
      " 1   bedrooms         49352 non-null  int64  \n",
      " 2   building_id      49352 non-null  object \n",
      " 3   created          49352 non-null  object \n",
      " 4   description      49352 non-null  object \n",
      " 5   display_address  49352 non-null  object \n",
      " 6   features         49352 non-null  object \n",
      " 7   latitude         49352 non-null  float64\n",
      " 8   listing_id       49352 non-null  int64  \n",
      " 9   longitude        49352 non-null  float64\n",
      " 10  manager_id       49352 non-null  object \n",
      " 11  photos           49352 non-null  object \n",
      " 12  price            49352 non-null  int64  \n",
      " 13  street_address   49352 non-null  object \n",
      " 14  interest_level   49352 non-null  object \n",
      "dtypes: float64(3), int64(3), object(9)\n",
      "memory usage: 6.0+ MB\n"
     ]
    }
   ],
   "source": [
    "first_df.info()"
   ]
  },
  {
   "cell_type": "markdown",
   "id": "d6091cef",
   "metadata": {},
   "source": [
    "### `What is the size of data?`"
   ]
  },
  {
   "cell_type": "code",
   "execution_count": 8,
   "id": "90c1cf12",
   "metadata": {},
   "outputs": [
    {
     "name": "stdout",
     "output_type": "stream",
     "text": [
      "The count of rows is: 49352,\n",
      "the count of columns is: 15,\n",
      "the memory usage is around 6 MB.\n"
     ]
    }
   ],
   "source": [
    "print(\n",
    "    f\"The count of rows is: {first_df.shape[0]},\" +\n",
    "    f\"\\nthe count of columns is: {first_df.shape[1]},\" +\n",
    "    \"\\nthe memory usage is around 6 MB.\",\n",
    ")"
   ]
  },
  {
   "cell_type": "markdown",
   "id": "bb6206c6",
   "metadata": {},
   "source": [
    "### Print the list of columns:"
   ]
  },
  {
   "cell_type": "code",
   "execution_count": 9,
   "id": "3e7c5b02",
   "metadata": {},
   "outputs": [
    {
     "data": {
      "text/plain": [
       "['bathrooms',\n",
       " 'bedrooms',\n",
       " 'building_id',\n",
       " 'created',\n",
       " 'description',\n",
       " 'display_address',\n",
       " 'features',\n",
       " 'latitude',\n",
       " 'listing_id',\n",
       " 'longitude',\n",
       " 'manager_id',\n",
       " 'photos',\n",
       " 'price',\n",
       " 'street_address',\n",
       " 'interest_level']"
      ]
     },
     "execution_count": 9,
     "metadata": {},
     "output_type": "execute_result"
    }
   ],
   "source": [
    "first_df.columns.to_list()"
   ]
  },
  {
   "cell_type": "markdown",
   "id": "8be4f2af",
   "metadata": {},
   "source": [
    "### `Which column is a target?`"
   ]
  },
  {
   "cell_type": "markdown",
   "id": "1eef1460",
   "metadata": {},
   "source": [
    "Answer: the `interest_level` column is a target."
   ]
  },
  {
   "cell_type": "markdown",
   "id": "b6fd022a",
   "metadata": {},
   "source": [
    "Make an analysis of the data.\n",
    "\n",
    "Use methods: `.info()`, `.describe()`, `.corr()`:"
   ]
  },
  {
   "cell_type": "code",
   "execution_count": 10,
   "id": "b5a59001",
   "metadata": {},
   "outputs": [
    {
     "name": "stdout",
     "output_type": "stream",
     "text": [
      "<class 'pandas.core.frame.DataFrame'>\n",
      "Index: 49352 entries, 4 to 124009\n",
      "Data columns (total 15 columns):\n",
      " #   Column           Non-Null Count  Dtype  \n",
      "---  ------           --------------  -----  \n",
      " 0   bathrooms        49352 non-null  float64\n",
      " 1   bedrooms         49352 non-null  int64  \n",
      " 2   building_id      49352 non-null  object \n",
      " 3   created          49352 non-null  object \n",
      " 4   description      49352 non-null  object \n",
      " 5   display_address  49352 non-null  object \n",
      " 6   features         49352 non-null  object \n",
      " 7   latitude         49352 non-null  float64\n",
      " 8   listing_id       49352 non-null  int64  \n",
      " 9   longitude        49352 non-null  float64\n",
      " 10  manager_id       49352 non-null  object \n",
      " 11  photos           49352 non-null  object \n",
      " 12  price            49352 non-null  int64  \n",
      " 13  street_address   49352 non-null  object \n",
      " 14  interest_level   49352 non-null  object \n",
      "dtypes: float64(3), int64(3), object(9)\n",
      "memory usage: 6.0+ MB\n"
     ]
    }
   ],
   "source": [
    "first_df.info()"
   ]
  },
  {
   "cell_type": "markdown",
   "id": "10acd70a",
   "metadata": {},
   "source": [
    "Use method `.describe()`:"
   ]
  },
  {
   "cell_type": "code",
   "execution_count": 11,
   "id": "d92475fc",
   "metadata": {},
   "outputs": [
    {
     "data": {
      "text/html": [
       "<div>\n",
       "<style scoped>\n",
       "    .dataframe tbody tr th:only-of-type {\n",
       "        vertical-align: middle;\n",
       "    }\n",
       "\n",
       "    .dataframe tbody tr th {\n",
       "        vertical-align: top;\n",
       "    }\n",
       "\n",
       "    .dataframe thead th {\n",
       "        text-align: right;\n",
       "    }\n",
       "</style>\n",
       "<table border=\"1\" class=\"dataframe\">\n",
       "  <thead>\n",
       "    <tr style=\"text-align: right;\">\n",
       "      <th></th>\n",
       "      <th>bathrooms</th>\n",
       "      <th>bedrooms</th>\n",
       "      <th>latitude</th>\n",
       "      <th>listing_id</th>\n",
       "      <th>longitude</th>\n",
       "      <th>price</th>\n",
       "    </tr>\n",
       "  </thead>\n",
       "  <tbody>\n",
       "    <tr>\n",
       "      <th>count</th>\n",
       "      <td>49352.00000</td>\n",
       "      <td>49352.000000</td>\n",
       "      <td>49352.000000</td>\n",
       "      <td>4.935200e+04</td>\n",
       "      <td>49352.000000</td>\n",
       "      <td>4.935200e+04</td>\n",
       "    </tr>\n",
       "    <tr>\n",
       "      <th>mean</th>\n",
       "      <td>1.21218</td>\n",
       "      <td>1.541640</td>\n",
       "      <td>40.741545</td>\n",
       "      <td>7.024055e+06</td>\n",
       "      <td>-73.955716</td>\n",
       "      <td>3.830174e+03</td>\n",
       "    </tr>\n",
       "    <tr>\n",
       "      <th>std</th>\n",
       "      <td>0.50142</td>\n",
       "      <td>1.115018</td>\n",
       "      <td>0.638535</td>\n",
       "      <td>1.262746e+05</td>\n",
       "      <td>1.177912</td>\n",
       "      <td>2.206687e+04</td>\n",
       "    </tr>\n",
       "    <tr>\n",
       "      <th>min</th>\n",
       "      <td>0.00000</td>\n",
       "      <td>0.000000</td>\n",
       "      <td>0.000000</td>\n",
       "      <td>6.811957e+06</td>\n",
       "      <td>-118.271000</td>\n",
       "      <td>4.300000e+01</td>\n",
       "    </tr>\n",
       "    <tr>\n",
       "      <th>25%</th>\n",
       "      <td>1.00000</td>\n",
       "      <td>1.000000</td>\n",
       "      <td>40.728300</td>\n",
       "      <td>6.915888e+06</td>\n",
       "      <td>-73.991700</td>\n",
       "      <td>2.500000e+03</td>\n",
       "    </tr>\n",
       "    <tr>\n",
       "      <th>50%</th>\n",
       "      <td>1.00000</td>\n",
       "      <td>1.000000</td>\n",
       "      <td>40.751800</td>\n",
       "      <td>7.021070e+06</td>\n",
       "      <td>-73.977900</td>\n",
       "      <td>3.150000e+03</td>\n",
       "    </tr>\n",
       "    <tr>\n",
       "      <th>75%</th>\n",
       "      <td>1.00000</td>\n",
       "      <td>2.000000</td>\n",
       "      <td>40.774300</td>\n",
       "      <td>7.128733e+06</td>\n",
       "      <td>-73.954800</td>\n",
       "      <td>4.100000e+03</td>\n",
       "    </tr>\n",
       "    <tr>\n",
       "      <th>max</th>\n",
       "      <td>10.00000</td>\n",
       "      <td>8.000000</td>\n",
       "      <td>44.883500</td>\n",
       "      <td>7.753784e+06</td>\n",
       "      <td>0.000000</td>\n",
       "      <td>4.490000e+06</td>\n",
       "    </tr>\n",
       "  </tbody>\n",
       "</table>\n",
       "</div>"
      ],
      "text/plain": [
       "         bathrooms      bedrooms      latitude    listing_id     longitude  \\\n",
       "count  49352.00000  49352.000000  49352.000000  4.935200e+04  49352.000000   \n",
       "mean       1.21218      1.541640     40.741545  7.024055e+06    -73.955716   \n",
       "std        0.50142      1.115018      0.638535  1.262746e+05      1.177912   \n",
       "min        0.00000      0.000000      0.000000  6.811957e+06   -118.271000   \n",
       "25%        1.00000      1.000000     40.728300  6.915888e+06    -73.991700   \n",
       "50%        1.00000      1.000000     40.751800  7.021070e+06    -73.977900   \n",
       "75%        1.00000      2.000000     40.774300  7.128733e+06    -73.954800   \n",
       "max       10.00000      8.000000     44.883500  7.753784e+06      0.000000   \n",
       "\n",
       "              price  \n",
       "count  4.935200e+04  \n",
       "mean   3.830174e+03  \n",
       "std    2.206687e+04  \n",
       "min    4.300000e+01  \n",
       "25%    2.500000e+03  \n",
       "50%    3.150000e+03  \n",
       "75%    4.100000e+03  \n",
       "max    4.490000e+06  "
      ]
     },
     "execution_count": 11,
     "metadata": {},
     "output_type": "execute_result"
    }
   ],
   "source": [
    "first_df.describe()"
   ]
  },
  {
   "cell_type": "markdown",
   "id": "32a825e3",
   "metadata": {},
   "source": [
    "Use method `.corr()`:"
   ]
  },
  {
   "cell_type": "code",
   "execution_count": 12,
   "id": "d3d5e612",
   "metadata": {},
   "outputs": [
    {
     "data": {
      "text/html": [
       "<div>\n",
       "<style scoped>\n",
       "    .dataframe tbody tr th:only-of-type {\n",
       "        vertical-align: middle;\n",
       "    }\n",
       "\n",
       "    .dataframe tbody tr th {\n",
       "        vertical-align: top;\n",
       "    }\n",
       "\n",
       "    .dataframe thead th {\n",
       "        text-align: right;\n",
       "    }\n",
       "</style>\n",
       "<table border=\"1\" class=\"dataframe\">\n",
       "  <thead>\n",
       "    <tr style=\"text-align: right;\">\n",
       "      <th></th>\n",
       "      <th>bathrooms</th>\n",
       "      <th>bedrooms</th>\n",
       "      <th>latitude</th>\n",
       "      <th>listing_id</th>\n",
       "      <th>longitude</th>\n",
       "      <th>price</th>\n",
       "    </tr>\n",
       "  </thead>\n",
       "  <tbody>\n",
       "    <tr>\n",
       "      <th>bathrooms</th>\n",
       "      <td>1.000000</td>\n",
       "      <td>0.533446</td>\n",
       "      <td>-0.009657</td>\n",
       "      <td>0.000776</td>\n",
       "      <td>0.010393</td>\n",
       "      <td>0.069661</td>\n",
       "    </tr>\n",
       "    <tr>\n",
       "      <th>bedrooms</th>\n",
       "      <td>0.533446</td>\n",
       "      <td>1.000000</td>\n",
       "      <td>-0.004745</td>\n",
       "      <td>0.011968</td>\n",
       "      <td>0.006892</td>\n",
       "      <td>0.051788</td>\n",
       "    </tr>\n",
       "    <tr>\n",
       "      <th>latitude</th>\n",
       "      <td>-0.009657</td>\n",
       "      <td>-0.004745</td>\n",
       "      <td>1.000000</td>\n",
       "      <td>0.001712</td>\n",
       "      <td>-0.966807</td>\n",
       "      <td>-0.000707</td>\n",
       "    </tr>\n",
       "    <tr>\n",
       "      <th>listing_id</th>\n",
       "      <td>0.000776</td>\n",
       "      <td>0.011968</td>\n",
       "      <td>0.001712</td>\n",
       "      <td>1.000000</td>\n",
       "      <td>-0.000907</td>\n",
       "      <td>0.008090</td>\n",
       "    </tr>\n",
       "    <tr>\n",
       "      <th>longitude</th>\n",
       "      <td>0.010393</td>\n",
       "      <td>0.006892</td>\n",
       "      <td>-0.966807</td>\n",
       "      <td>-0.000907</td>\n",
       "      <td>1.000000</td>\n",
       "      <td>-0.000087</td>\n",
       "    </tr>\n",
       "    <tr>\n",
       "      <th>price</th>\n",
       "      <td>0.069661</td>\n",
       "      <td>0.051788</td>\n",
       "      <td>-0.000707</td>\n",
       "      <td>0.008090</td>\n",
       "      <td>-0.000087</td>\n",
       "      <td>1.000000</td>\n",
       "    </tr>\n",
       "  </tbody>\n",
       "</table>\n",
       "</div>"
      ],
      "text/plain": [
       "            bathrooms  bedrooms  latitude  listing_id  longitude     price\n",
       "bathrooms    1.000000  0.533446 -0.009657    0.000776   0.010393  0.069661\n",
       "bedrooms     0.533446  1.000000 -0.004745    0.011968   0.006892  0.051788\n",
       "latitude    -0.009657 -0.004745  1.000000    0.001712  -0.966807 -0.000707\n",
       "listing_id   0.000776  0.011968  0.001712    1.000000  -0.000907  0.008090\n",
       "longitude    0.010393  0.006892 -0.966807   -0.000907   1.000000 -0.000087\n",
       "price        0.069661  0.051788 -0.000707    0.008090  -0.000087  1.000000"
      ]
     },
     "execution_count": 12,
     "metadata": {},
     "output_type": "execute_result"
    }
   ],
   "source": [
    "first_df.select_dtypes(include=[\"number\", ], ).corr()"
   ]
  },
  {
   "cell_type": "markdown",
   "id": "83edc09b",
   "metadata": {},
   "source": [
    "### Explain the results of outputs:"
   ]
  },
  {
   "cell_type": "markdown",
   "id": "5c99452f",
   "metadata": {},
   "source": [
    "The method `.info()` shows: the number of rows and columns of the *Pandas* dataframe, data by columns (features) of the *Pandas* dataframe: the column index, it is name, the number of non-zero values, the column data type.\n",
    "It displays statistics on the *Pandas* dataframe: the amount of *RAM* used, the number of columns of each data type."
   ]
  },
  {
   "cell_type": "markdown",
   "id": "e8ec0c43",
   "metadata": {},
   "source": [
    "The method `.describe()` shows: the statistical characteristics of numeric columns (features).\n",
    "The statistical characteristics are: `count` - the number of column values, `mean` - the average value of the column, `std` - the average deviation of the values, `min` - the minimum value of the column, `25 %` - the first quartile, `50 %` - the second quartile, `75 %` - the third quartile, `max` - the maximum value of the column."
   ]
  },
  {
   "cell_type": "markdown",
   "id": "00c057b1",
   "metadata": {},
   "source": [
    "The method `.corr()` shows a linear correlation between numeric columns (features).\n",
    "`1` - maximum direct correlation, `-1` - maximum inverse correlation, `0` - no correlation."
   ]
  },
  {
   "cell_type": "markdown",
   "id": "fdc7af0f",
   "metadata": {},
   "source": [
    "### `Are there empty columns?`"
   ]
  },
  {
   "cell_type": "markdown",
   "id": "d7c39d70",
   "metadata": {},
   "source": [
    "Answer: no, there are not."
   ]
  },
  {
   "cell_type": "markdown",
   "id": "cdc77a29",
   "metadata": {},
   "source": [
    "Create a list `necess_cols` with names of necessary columns:"
   ]
  },
  {
   "cell_type": "code",
   "execution_count": 13,
   "id": "e314bd21",
   "metadata": {},
   "outputs": [],
   "source": [
    "necess_cols: list[str] = [\n",
    "    \"price\",\n",
    "    \"bedrooms\",\n",
    "    \"bathrooms\",\n",
    "    \"interest_level\",\n",
    "]"
   ]
  },
  {
   "cell_type": "markdown",
   "id": "a729fa71",
   "metadata": {},
   "source": [
    "### Work with `3` features: `bathrooms`, `bedrooms`, `interest_level` with target column `price`. Make a *Pandas* dataframe with these columns:"
   ]
  },
  {
   "cell_type": "code",
   "execution_count": 14,
   "id": "5307a182",
   "metadata": {},
   "outputs": [],
   "source": [
    "df = first_df[necess_cols]"
   ]
  },
  {
   "cell_type": "markdown",
   "id": "388f9a41",
   "metadata": {},
   "source": [
    "Check `df` *Pandas* dataframe:"
   ]
  },
  {
   "cell_type": "code",
   "execution_count": 15,
   "id": "f78d0363",
   "metadata": {},
   "outputs": [
    {
     "data": {
      "text/html": [
       "<div>\n",
       "<style scoped>\n",
       "    .dataframe tbody tr th:only-of-type {\n",
       "        vertical-align: middle;\n",
       "    }\n",
       "\n",
       "    .dataframe tbody tr th {\n",
       "        vertical-align: top;\n",
       "    }\n",
       "\n",
       "    .dataframe thead th {\n",
       "        text-align: right;\n",
       "    }\n",
       "</style>\n",
       "<table border=\"1\" class=\"dataframe\">\n",
       "  <thead>\n",
       "    <tr style=\"text-align: right;\">\n",
       "      <th></th>\n",
       "      <th>price</th>\n",
       "      <th>bedrooms</th>\n",
       "      <th>bathrooms</th>\n",
       "      <th>interest_level</th>\n",
       "    </tr>\n",
       "  </thead>\n",
       "  <tbody>\n",
       "    <tr>\n",
       "      <th>4</th>\n",
       "      <td>2400</td>\n",
       "      <td>1</td>\n",
       "      <td>1.0</td>\n",
       "      <td>medium</td>\n",
       "    </tr>\n",
       "    <tr>\n",
       "      <th>6</th>\n",
       "      <td>3800</td>\n",
       "      <td>2</td>\n",
       "      <td>1.0</td>\n",
       "      <td>low</td>\n",
       "    </tr>\n",
       "    <tr>\n",
       "      <th>9</th>\n",
       "      <td>3495</td>\n",
       "      <td>2</td>\n",
       "      <td>1.0</td>\n",
       "      <td>medium</td>\n",
       "    </tr>\n",
       "    <tr>\n",
       "      <th>10</th>\n",
       "      <td>3000</td>\n",
       "      <td>3</td>\n",
       "      <td>1.5</td>\n",
       "      <td>medium</td>\n",
       "    </tr>\n",
       "    <tr>\n",
       "      <th>15</th>\n",
       "      <td>2795</td>\n",
       "      <td>0</td>\n",
       "      <td>1.0</td>\n",
       "      <td>low</td>\n",
       "    </tr>\n",
       "    <tr>\n",
       "      <th>...</th>\n",
       "      <td>...</td>\n",
       "      <td>...</td>\n",
       "      <td>...</td>\n",
       "      <td>...</td>\n",
       "    </tr>\n",
       "    <tr>\n",
       "      <th>124000</th>\n",
       "      <td>2800</td>\n",
       "      <td>3</td>\n",
       "      <td>1.0</td>\n",
       "      <td>low</td>\n",
       "    </tr>\n",
       "    <tr>\n",
       "      <th>124002</th>\n",
       "      <td>2395</td>\n",
       "      <td>2</td>\n",
       "      <td>1.0</td>\n",
       "      <td>medium</td>\n",
       "    </tr>\n",
       "    <tr>\n",
       "      <th>124004</th>\n",
       "      <td>1850</td>\n",
       "      <td>1</td>\n",
       "      <td>1.0</td>\n",
       "      <td>medium</td>\n",
       "    </tr>\n",
       "    <tr>\n",
       "      <th>124008</th>\n",
       "      <td>4195</td>\n",
       "      <td>2</td>\n",
       "      <td>1.0</td>\n",
       "      <td>medium</td>\n",
       "    </tr>\n",
       "    <tr>\n",
       "      <th>124009</th>\n",
       "      <td>4280</td>\n",
       "      <td>3</td>\n",
       "      <td>1.0</td>\n",
       "      <td>high</td>\n",
       "    </tr>\n",
       "  </tbody>\n",
       "</table>\n",
       "<p>49352 rows × 4 columns</p>\n",
       "</div>"
      ],
      "text/plain": [
       "        price  bedrooms  bathrooms interest_level\n",
       "4        2400         1        1.0         medium\n",
       "6        3800         2        1.0            low\n",
       "9        3495         2        1.0         medium\n",
       "10       3000         3        1.5         medium\n",
       "15       2795         0        1.0            low\n",
       "...       ...       ...        ...            ...\n",
       "124000   2800         3        1.0            low\n",
       "124002   2395         2        1.0         medium\n",
       "124004   1850         1        1.0         medium\n",
       "124008   4195         2        1.0         medium\n",
       "124009   4280         3        1.0           high\n",
       "\n",
       "[49352 rows x 4 columns]"
      ]
     },
     "execution_count": 15,
     "metadata": {},
     "output_type": "execute_result"
    }
   ],
   "source": [
    "df"
   ]
  },
  {
   "cell_type": "markdown",
   "id": "76346717",
   "metadata": {},
   "source": [
    "## *Statistical Data Analysis*:"
   ]
  },
  {
   "cell_type": "markdown",
   "id": "e914270a",
   "metadata": {},
   "source": [
    "### Give a definition of: *mean*, *median*, *mode*, *variance*, *standard deviation*, *outliers*, *percentiles*, *confidential intervals*:"
   ]
  },
  {
   "cell_type": "markdown",
   "id": "e37e5e30",
   "metadata": {},
   "source": [
    "*Mean Value* - a statistical quantity defined as the sum of all the elements of a sample (general population) divided by the number of elements of this sample (general population).\n",
    "\n",
    "*Median Value* - a statistical value of a sample (general population) that divides an ordered series of a sample (general population) in half.\n",
    "If the sample size (of the general population) is even, then the average value of the two elements in the middle of the sample (general population) is taken.\n",
    "\n",
    "*Mode Value* - a statistical value of the sample (general population), which characterizes the most common value of the sample (general population).\n",
    "\n",
    "*Variance Value* - a statistical value equal to the mean square of the differences between the values of the sample (general population) and the *Mean Value* of the sample (general population).\n",
    "It shows the difference between the values of the sample (general population) and the *Mean Value* of the sample (general population).\n",
    "\n",
    "*Standart Deviation Value* - a statistical value equal the mean difference between the module of values of the sample (general population) and the *Mean Value* of the sample (general population).\n",
    "It shows the difference between the values of the sample (general population) and the *Mean Value* of the sample (general population).\n",
    "\n",
    "*Outliers* - a values that are very differents in values from the *Mean Value* of the sample (general population).\n",
    "\n",
    "*Percentiles* - are three values, which divide the sample (general population) into `4` parts equal in number of elements.\n",
    "\n",
    "*Confidential Intervals* - is the range of values of the sample (general population), which contains, with a certain probability, the desired value of the sample (general population)."
   ]
  },
  {
   "cell_type": "markdown",
   "id": "c0f0ce58",
   "metadata": {},
   "source": [
    "### Be free with distributions: *Discrete Uniform*, *Distribution*, *Bernoulli Distribution*, *Binomial Distribution*, *Poisson Distribution*, *Normal Distribution*, *Exponential Distribution*:"
   ]
  },
  {
   "cell_type": "markdown",
   "id": "07bfe018",
   "metadata": {},
   "source": [
    "*Distribution* - a function that describes possible values of a random variable and the probability of occurrence.\n",
    "\n",
    "*Normal Distribution* - a continuous, unimodal, symmetrical distribution of a sample feature (general population).\n",
    "\n",
    "*Discrete Uniform Distribution* - a probability distribution where all possible values have the same probability.\n",
    "\n",
    "*Bernoulli Distribution* - a discrete probability distribution that models a single experiment with two possible outcomes: success or failure.\n",
    "\n",
    "*Binomial Distribution* - a discrete probability distribution that models the number of successes in a series of `n` independent *Bernoulli* trials with a constant probability of success `p`.\n",
    "\n",
    "*Poisson Distribution* - a discrete probability distribution that models the number of events occurring in a fixed interval of time, provided that these events occur at a constant average intensity and independently of each other.\n",
    "\n",
    "*Exponential Distribution* - a continuous probability distribution that models the time between events in the *Poisson* process."
   ]
  },
  {
   "cell_type": "markdown",
   "id": "36e2b6ab",
   "metadata": {},
   "source": [
    "## Target analysis:"
   ]
  },
  {
   "cell_type": "markdown",
   "id": "fc42bf91",
   "metadata": {},
   "source": [
    "### Plot a distribution histogram of the target `price`:"
   ]
  },
  {
   "cell_type": "code",
   "execution_count": 16,
   "id": "57ec0b45",
   "metadata": {},
   "outputs": [
    {
     "data": {
      "image/png": "[encoded data removed]",
      "text/plain": [
       "<Figure size 1800x600 with 1 Axes>"
      ]
     },
     "metadata": {},
     "output_type": "display_data"
    }
   ],
   "source": [
    "plt.figure(figsize=(18, 6, ), )\n",
    "df[\"price\"].hist()\n",
    "plt.grid(axis='x', alpha=0.5, )\n",
    "plt.ylabel(\"Values\", fontsize=16, )\n",
    "plt.xlabel(\"Frequency of occurrence of values\", fontsize=16, )\n",
    "plt.title(\n",
    "    \"Distribution Histogram of Target 'price'\",\n",
    "    pad=10,\n",
    "    fontsize=20,\n",
    ")\n",
    "plt.show();"
   ]
  },
  {
   "cell_type": "markdown",
   "id": "6eb8b49e",
   "metadata": {},
   "source": [
    "### `Is it clear?`"
   ]
  },
  {
   "cell_type": "markdown",
   "id": "472b942d",
   "metadata": {},
   "source": [
    "Answer: no."
   ]
  },
  {
   "cell_type": "markdown",
   "id": "882156f3",
   "metadata": {},
   "source": [
    "### Plot the boxplot:"
   ]
  },
  {
   "cell_type": "code",
   "execution_count": 17,
   "id": "f475bb45",
   "metadata": {},
   "outputs": [
    {
     "data": {
      "image/png": "[encoded data removed]",
      "text/plain": [
       "<Figure size 1800x800 with 1 Axes>"
      ]
     },
     "metadata": {},
     "output_type": "display_data"
    }
   ],
   "source": [
    "plt.figure(figsize=(18, 8, ), )\n",
    "plt.boxplot(df[\"price\"], )\n",
    "plt.grid(axis='y', alpha=0.8, )\n",
    "plt.title(\n",
    "    \"Boxplot of Target 'price'\",\n",
    "    pad=10,\n",
    "    fontsize=20,\n",
    ")\n",
    "plt.show();"
   ]
  },
  {
   "cell_type": "markdown",
   "id": "a660594e",
   "metadata": {},
   "source": [
    "### `What you say about target?`"
   ]
  },
  {
   "cell_type": "markdown",
   "id": "21d2658a",
   "metadata": {},
   "source": [
    "Answer: there are strong outliers in the values, which do not allow estimating the target variable."
   ]
  },
  {
   "cell_type": "markdown",
   "id": "ac748f36",
   "metadata": {},
   "source": [
    "### `Are there outliers?`"
   ]
  },
  {
   "cell_type": "markdown",
   "id": "214bbf4b",
   "metadata": {},
   "source": [
    "Answer: the number of outliers is large."
   ]
  },
  {
   "cell_type": "markdown",
   "id": "da3ee737",
   "metadata": {},
   "source": [
    "Create a variables of target bounds:"
   ]
  },
  {
   "cell_type": "code",
   "execution_count": 18,
   "id": "40032642",
   "metadata": {},
   "outputs": [],
   "source": [
    "low_bound: float = df[\"price\"].quantile(0.01, )\n",
    "up_bound: float = df[\"price\"].quantile(0.99, )"
   ]
  },
  {
   "cell_type": "markdown",
   "id": "4bec6d12",
   "metadata": {},
   "source": [
    "### Drop rows which are out of the `1` and `99` percentile by the target column:"
   ]
  },
  {
   "cell_type": "code",
   "execution_count": 19,
   "id": "8deb19fc",
   "metadata": {},
   "outputs": [],
   "source": [
    "cut_df: DataFrame = df[\n",
    "    (df[\"price\"] >= low_bound) &\n",
    "    (df[\"price\"] <= up_bound)\n",
    "]"
   ]
  },
  {
   "cell_type": "markdown",
   "id": "5fba231a",
   "metadata": {},
   "source": [
    "Check `cut_df` *Pandas* dataframe:"
   ]
  },
  {
   "cell_type": "code",
   "execution_count": 20,
   "id": "157f192d",
   "metadata": {},
   "outputs": [
    {
     "data": {
      "text/html": [
       "<div>\n",
       "<style scoped>\n",
       "    .dataframe tbody tr th:only-of-type {\n",
       "        vertical-align: middle;\n",
       "    }\n",
       "\n",
       "    .dataframe tbody tr th {\n",
       "        vertical-align: top;\n",
       "    }\n",
       "\n",
       "    .dataframe thead th {\n",
       "        text-align: right;\n",
       "    }\n",
       "</style>\n",
       "<table border=\"1\" class=\"dataframe\">\n",
       "  <thead>\n",
       "    <tr style=\"text-align: right;\">\n",
       "      <th></th>\n",
       "      <th>price</th>\n",
       "      <th>bedrooms</th>\n",
       "      <th>bathrooms</th>\n",
       "      <th>interest_level</th>\n",
       "    </tr>\n",
       "  </thead>\n",
       "  <tbody>\n",
       "    <tr>\n",
       "      <th>4</th>\n",
       "      <td>2400</td>\n",
       "      <td>1</td>\n",
       "      <td>1.0</td>\n",
       "      <td>medium</td>\n",
       "    </tr>\n",
       "    <tr>\n",
       "      <th>6</th>\n",
       "      <td>3800</td>\n",
       "      <td>2</td>\n",
       "      <td>1.0</td>\n",
       "      <td>low</td>\n",
       "    </tr>\n",
       "    <tr>\n",
       "      <th>9</th>\n",
       "      <td>3495</td>\n",
       "      <td>2</td>\n",
       "      <td>1.0</td>\n",
       "      <td>medium</td>\n",
       "    </tr>\n",
       "    <tr>\n",
       "      <th>10</th>\n",
       "      <td>3000</td>\n",
       "      <td>3</td>\n",
       "      <td>1.5</td>\n",
       "      <td>medium</td>\n",
       "    </tr>\n",
       "    <tr>\n",
       "      <th>15</th>\n",
       "      <td>2795</td>\n",
       "      <td>0</td>\n",
       "      <td>1.0</td>\n",
       "      <td>low</td>\n",
       "    </tr>\n",
       "    <tr>\n",
       "      <th>...</th>\n",
       "      <td>...</td>\n",
       "      <td>...</td>\n",
       "      <td>...</td>\n",
       "      <td>...</td>\n",
       "    </tr>\n",
       "    <tr>\n",
       "      <th>124000</th>\n",
       "      <td>2800</td>\n",
       "      <td>3</td>\n",
       "      <td>1.0</td>\n",
       "      <td>low</td>\n",
       "    </tr>\n",
       "    <tr>\n",
       "      <th>124002</th>\n",
       "      <td>2395</td>\n",
       "      <td>2</td>\n",
       "      <td>1.0</td>\n",
       "      <td>medium</td>\n",
       "    </tr>\n",
       "    <tr>\n",
       "      <th>124004</th>\n",
       "      <td>1850</td>\n",
       "      <td>1</td>\n",
       "      <td>1.0</td>\n",
       "      <td>medium</td>\n",
       "    </tr>\n",
       "    <tr>\n",
       "      <th>124008</th>\n",
       "      <td>4195</td>\n",
       "      <td>2</td>\n",
       "      <td>1.0</td>\n",
       "      <td>medium</td>\n",
       "    </tr>\n",
       "    <tr>\n",
       "      <th>124009</th>\n",
       "      <td>4280</td>\n",
       "      <td>3</td>\n",
       "      <td>1.0</td>\n",
       "      <td>high</td>\n",
       "    </tr>\n",
       "  </tbody>\n",
       "</table>\n",
       "<p>48379 rows × 4 columns</p>\n",
       "</div>"
      ],
      "text/plain": [
       "        price  bedrooms  bathrooms interest_level\n",
       "4        2400         1        1.0         medium\n",
       "6        3800         2        1.0            low\n",
       "9        3495         2        1.0         medium\n",
       "10       3000         3        1.5         medium\n",
       "15       2795         0        1.0            low\n",
       "...       ...       ...        ...            ...\n",
       "124000   2800         3        1.0            low\n",
       "124002   2395         2        1.0         medium\n",
       "124004   1850         1        1.0         medium\n",
       "124008   4195         2        1.0         medium\n",
       "124009   4280         3        1.0           high\n",
       "\n",
       "[48379 rows x 4 columns]"
      ]
     },
     "execution_count": 20,
     "metadata": {},
     "output_type": "execute_result"
    }
   ],
   "source": [
    "cut_df"
   ]
  },
  {
   "cell_type": "markdown",
   "id": "7f2ab4a7",
   "metadata": {},
   "source": [
    "### Plot a histogram for target `price` again:"
   ]
  },
  {
   "cell_type": "code",
   "execution_count": 21,
   "id": "681a43a1",
   "metadata": {},
   "outputs": [
    {
     "data": {
      "image/png": "[encoded data removed]",
      "text/plain": [
       "<Figure size 1800x600 with 1 Axes>"
      ]
     },
     "metadata": {},
     "output_type": "display_data"
    }
   ],
   "source": [
    "plt.figure(figsize=(18, 6, ), )\n",
    "cut_df[\"price\"].hist(bins=100, )\n",
    "plt.grid(axis='x', alpha=0.5, )\n",
    "plt.ylabel(\"Values\", fontsize=16, )\n",
    "plt.xlabel(\"Frequency of occurrence of values\", fontsize=16, )\n",
    "plt.title(\n",
    "    \"Distribution Histogram of Cutted Target 'price'\",\n",
    "    pad=10,\n",
    "    fontsize=20,\n",
    ")\n",
    "plt.show();"
   ]
  },
  {
   "cell_type": "markdown",
   "id": "e9e07579",
   "metadata": {},
   "source": [
    "### Explain the result:"
   ]
  },
  {
   "cell_type": "markdown",
   "id": "5e8c80ee",
   "metadata": {},
   "source": [
    "We dropped the outliers, which allowed us to shrink the figure into a range.\n",
    "However, it can be seen that the right `tail` of the distribution is longer than the left."
   ]
  },
  {
   "cell_type": "markdown",
   "id": "27dc2b76",
   "metadata": {},
   "source": [
    "## Features analysis:"
   ]
  },
  {
   "cell_type": "markdown",
   "id": "7e702d6a",
   "metadata": {},
   "source": [
    "### `What is the type of column interest_level?`"
   ]
  },
  {
   "cell_type": "code",
   "execution_count": 22,
   "id": "b2729492",
   "metadata": {},
   "outputs": [
    {
     "name": "stdout",
     "output_type": "stream",
     "text": [
      "The type of `interest_level` is: <class 'str'>.\n"
     ]
    }
   ],
   "source": [
    "print(\n",
    "    f\"The type of `interest_level` is: {\n",
    "        type(cut_df[\"interest_level\"].iloc[0], )\n",
    "    }.\",\n",
    ")"
   ]
  },
  {
   "cell_type": "markdown",
   "id": "99ab4f5d",
   "metadata": {},
   "source": [
    "### Print the values of column `interest_level`:"
   ]
  },
  {
   "cell_type": "code",
   "execution_count": 23,
   "id": "8e178aeb",
   "metadata": {},
   "outputs": [
    {
     "data": {
      "text/plain": [
       "4         medium\n",
       "6            low\n",
       "9         medium\n",
       "10        medium\n",
       "15           low\n",
       "           ...  \n",
       "124000       low\n",
       "124002    medium\n",
       "124004    medium\n",
       "124008    medium\n",
       "124009      high\n",
       "Name: interest_level, Length: 48379, dtype: object"
      ]
     },
     "execution_count": 23,
     "metadata": {},
     "output_type": "execute_result"
    }
   ],
   "source": [
    "cut_df[\"interest_level\"]"
   ]
  },
  {
   "cell_type": "markdown",
   "id": "6f83ce06",
   "metadata": {},
   "source": [
    "### `How many items each value contains?`"
   ]
  },
  {
   "cell_type": "code",
   "execution_count": 24,
   "id": "94c1d247",
   "metadata": {},
   "outputs": [
    {
     "data": {
      "text/plain": [
       "interest_level\n",
       "low       33697\n",
       "medium    11116\n",
       "high       3566\n",
       "Name: count, dtype: int64"
      ]
     },
     "execution_count": 24,
     "metadata": {},
     "output_type": "execute_result"
    }
   ],
   "source": [
    "cut_df[\"interest_level\"].value_counts()"
   ]
  },
  {
   "cell_type": "markdown",
   "id": "4adfa0a3",
   "metadata": {},
   "source": [
    "Decode these values:"
   ]
  },
  {
   "cell_type": "code",
   "execution_count": 25,
   "id": "ad820e76",
   "metadata": {},
   "outputs": [],
   "source": [
    "cut_df.loc[:, \"interest_level\"] = cut_df[\"interest_level\"].astype(\n",
    "    \"category\",\n",
    ").cat.codes"
   ]
  },
  {
   "cell_type": "markdown",
   "id": "99447d45",
   "metadata": {},
   "source": [
    "Check `cut_df` *Pandas* dataframe:"
   ]
  },
  {
   "cell_type": "code",
   "execution_count": 26,
   "id": "a9d2fe32",
   "metadata": {},
   "outputs": [
    {
     "data": {
      "text/html": [
       "<div>\n",
       "<style scoped>\n",
       "    .dataframe tbody tr th:only-of-type {\n",
       "        vertical-align: middle;\n",
       "    }\n",
       "\n",
       "    .dataframe tbody tr th {\n",
       "        vertical-align: top;\n",
       "    }\n",
       "\n",
       "    .dataframe thead th {\n",
       "        text-align: right;\n",
       "    }\n",
       "</style>\n",
       "<table border=\"1\" class=\"dataframe\">\n",
       "  <thead>\n",
       "    <tr style=\"text-align: right;\">\n",
       "      <th></th>\n",
       "      <th>price</th>\n",
       "      <th>bedrooms</th>\n",
       "      <th>bathrooms</th>\n",
       "      <th>interest_level</th>\n",
       "    </tr>\n",
       "  </thead>\n",
       "  <tbody>\n",
       "    <tr>\n",
       "      <th>4</th>\n",
       "      <td>2400</td>\n",
       "      <td>1</td>\n",
       "      <td>1.0</td>\n",
       "      <td>2</td>\n",
       "    </tr>\n",
       "    <tr>\n",
       "      <th>6</th>\n",
       "      <td>3800</td>\n",
       "      <td>2</td>\n",
       "      <td>1.0</td>\n",
       "      <td>1</td>\n",
       "    </tr>\n",
       "    <tr>\n",
       "      <th>9</th>\n",
       "      <td>3495</td>\n",
       "      <td>2</td>\n",
       "      <td>1.0</td>\n",
       "      <td>2</td>\n",
       "    </tr>\n",
       "    <tr>\n",
       "      <th>10</th>\n",
       "      <td>3000</td>\n",
       "      <td>3</td>\n",
       "      <td>1.5</td>\n",
       "      <td>2</td>\n",
       "    </tr>\n",
       "    <tr>\n",
       "      <th>15</th>\n",
       "      <td>2795</td>\n",
       "      <td>0</td>\n",
       "      <td>1.0</td>\n",
       "      <td>1</td>\n",
       "    </tr>\n",
       "    <tr>\n",
       "      <th>...</th>\n",
       "      <td>...</td>\n",
       "      <td>...</td>\n",
       "      <td>...</td>\n",
       "      <td>...</td>\n",
       "    </tr>\n",
       "    <tr>\n",
       "      <th>124000</th>\n",
       "      <td>2800</td>\n",
       "      <td>3</td>\n",
       "      <td>1.0</td>\n",
       "      <td>1</td>\n",
       "    </tr>\n",
       "    <tr>\n",
       "      <th>124002</th>\n",
       "      <td>2395</td>\n",
       "      <td>2</td>\n",
       "      <td>1.0</td>\n",
       "      <td>2</td>\n",
       "    </tr>\n",
       "    <tr>\n",
       "      <th>124004</th>\n",
       "      <td>1850</td>\n",
       "      <td>1</td>\n",
       "      <td>1.0</td>\n",
       "      <td>2</td>\n",
       "    </tr>\n",
       "    <tr>\n",
       "      <th>124008</th>\n",
       "      <td>4195</td>\n",
       "      <td>2</td>\n",
       "      <td>1.0</td>\n",
       "      <td>2</td>\n",
       "    </tr>\n",
       "    <tr>\n",
       "      <th>124009</th>\n",
       "      <td>4280</td>\n",
       "      <td>3</td>\n",
       "      <td>1.0</td>\n",
       "      <td>0</td>\n",
       "    </tr>\n",
       "  </tbody>\n",
       "</table>\n",
       "<p>48379 rows × 4 columns</p>\n",
       "</div>"
      ],
      "text/plain": [
       "        price  bedrooms  bathrooms interest_level\n",
       "4        2400         1        1.0              2\n",
       "6        3800         2        1.0              1\n",
       "9        3495         2        1.0              2\n",
       "10       3000         3        1.5              2\n",
       "15       2795         0        1.0              1\n",
       "...       ...       ...        ...            ...\n",
       "124000   2800         3        1.0              1\n",
       "124002   2395         2        1.0              2\n",
       "124004   1850         1        1.0              2\n",
       "124008   4195         2        1.0              2\n",
       "124009   4280         3        1.0              0\n",
       "\n",
       "[48379 rows x 4 columns]"
      ]
     },
     "execution_count": 26,
     "metadata": {},
     "output_type": "execute_result"
    }
   ],
   "source": [
    "cut_df"
   ]
  },
  {
   "cell_type": "markdown",
   "id": "6bf3d43f",
   "metadata": {},
   "source": [
    "### Plot histograms for features: `bathrooms`,  `bedrooms`:"
   ]
  },
  {
   "cell_type": "code",
   "execution_count": 27,
   "id": "1fe434ed",
   "metadata": {},
   "outputs": [
    {
     "data": {
      "image/png": "[encoded data removed]",
      "text/plain": [
       "<Figure size 1800x600 with 1 Axes>"
      ]
     },
     "metadata": {},
     "output_type": "display_data"
    }
   ],
   "source": [
    "plt.figure(figsize=(18, 6, ), )\n",
    "cut_df[\"bathrooms\"].hist(bins=40, )\n",
    "plt.grid(axis='x', alpha=0.5, )\n",
    "plt.ylabel(\"Values\", fontsize=16, )\n",
    "plt.xlabel(\"Frequency of occurrence of values\", fontsize=16, )\n",
    "plt.title(\n",
    "    \"Distribution Histogram of Cutted 'bathrooms' Feature\",\n",
    "    pad=10,\n",
    "    fontsize=20,\n",
    ")\n",
    "plt.show();"
   ]
  },
  {
   "cell_type": "code",
   "execution_count": 28,
   "id": "d8bdd60d",
   "metadata": {},
   "outputs": [
    {
     "data": {
      "image/png": "[encoded data removed]",
      "text/plain": [
       "<Figure size 1800x600 with 1 Axes>"
      ]
     },
     "metadata": {},
     "output_type": "display_data"
    }
   ],
   "source": [
    "plt.figure(figsize=(18, 6, ), )\n",
    "cut_df[\"bedrooms\"].hist(bins=50, )\n",
    "plt.grid(axis='x', alpha=0.5, )\n",
    "plt.ylabel(\"Values\", fontsize=16, )\n",
    "plt.xlabel(\"Frequency of occurrence of values\", fontsize=16, )\n",
    "plt.title(\n",
    "    \"Distribution Histogram of Cutted 'bedrooms' Feature\",\n",
    "    pad=10,\n",
    "    fontsize=20,\n",
    ")\n",
    "plt.show();"
   ]
  },
  {
   "cell_type": "markdown",
   "id": "cb35f408",
   "metadata": {},
   "source": [
    "### `Are there outliers?`"
   ]
  },
  {
   "cell_type": "markdown",
   "id": "1fc28df7",
   "metadata": {},
   "source": [
    "Answer: it's hard to say, since this graph does not explicitly show the presence of emissions.\n",
    "However, judging by the complexity of the graph compressibility, there may be outliers."
   ]
  },
  {
   "cell_type": "markdown",
   "id": "09a65afc",
   "metadata": {},
   "source": [
    "## Complex analysis:"
   ]
  },
  {
   "cell_type": "markdown",
   "id": "816c5676",
   "metadata": {},
   "source": [
    "### Plot a correlation matrix to understand correlation:"
   ]
  },
  {
   "cell_type": "code",
   "execution_count": 29,
   "id": "6cecab76",
   "metadata": {},
   "outputs": [
    {
     "data": {
      "image/png": "[encoded data removed]",
      "text/plain": [
       "<Figure size 1800x1200 with 2 Axes>"
      ]
     },
     "metadata": {},
     "output_type": "display_data"
    }
   ],
   "source": [
    "plt.figure(figsize=(18, 12, ), )\n",
    "sns.heatmap(\n",
    "    cut_df.corr(),\n",
    "    vmax=1,\n",
    "    vmin=-1,\n",
    "    fmt=\".2f\",\n",
    "    annot=True,\n",
    "    square=True,\n",
    ")\n",
    "plt.title(\n",
    "    \"Correlation Matrix Between Features and `price` Target\",\n",
    "    pad=10,\n",
    "    fontsize=18,\n",
    ")\n",
    "plt.yticks(rotation=90, )\n",
    "plt.show();"
   ]
  },
  {
   "cell_type": "markdown",
   "id": "0541ec92",
   "metadata": {},
   "source": [
    "### `Is there a correlation?`"
   ]
  },
  {
   "cell_type": "markdown",
   "id": "f0e41a76",
   "metadata": {},
   "source": [
    "Answer: yes, there are strong correlations, except for the `interest_level` attribute."
   ]
  },
  {
   "cell_type": "markdown",
   "id": "21a62976",
   "metadata": {},
   "source": [
    "### Use a *scatter* plot to visualize correlation between features and target:"
   ]
  },
  {
   "cell_type": "code",
   "execution_count": 30,
   "id": "49f5943a",
   "metadata": {},
   "outputs": [
    {
     "data": {
      "image/png": "[encoded data removed]",
      "text/plain": [
       "<Figure size 2000x500 with 3 Axes>"
      ]
     },
     "metadata": {},
     "output_type": "display_data"
    }
   ],
   "source": [
    "plt.figure(figsize=(20, 5, ), )\n",
    "\n",
    "plt.subplot(1, 3, 1, )\n",
    "plt.grid(alpha=0.75, )\n",
    "plt.scatter(\n",
    "    cut_df[\"price\"],\n",
    "    cut_df[\"bathrooms\"],\n",
    ")\n",
    "plt.title(\n",
    "    \"The Correlation Between Bathrooms and Price\",\n",
    "    pad=10,\n",
    "    fontsize=14,\n",
    ")\n",
    "\n",
    "plt.subplot(1, 3, 2, )\n",
    "plt.grid(alpha=0.75, )\n",
    "plt.scatter(\n",
    "    cut_df[\"price\"],\n",
    "    cut_df[\"bedrooms\"],\n",
    ")\n",
    "plt.title(\n",
    "    \"The Correlation Between Bedrooms and Price\",\n",
    "    pad=10,\n",
    "    fontsize=14,\n",
    ")\n",
    "\n",
    "plt.subplot(1, 3, 3, )\n",
    "plt.grid(alpha=0.75, )\n",
    "plt.scatter(\n",
    "    cut_df[\"price\"],\n",
    "    cut_df[\"interest_level\"],\n",
    ")\n",
    "plt.title(\n",
    "    \"The Correlation Between Interest and Price\",\n",
    "    pad=10,\n",
    "    fontsize=14,\n",
    ")\n",
    "plt.show();"
   ]
  },
  {
   "cell_type": "markdown",
   "id": "7c03c6ff",
   "metadata": {},
   "source": [
    "## Generate features:"
   ]
  },
  {
   "cell_type": "markdown",
   "id": "04f073f5",
   "metadata": {},
   "source": [
    "### Add `3` features, which are squared: `bathrooms_squared`, `bedrooms_squared`, `interest_level_squared`:"
   ]
  },
  {
   "cell_type": "code",
   "execution_count": 31,
   "id": "b9ec9864",
   "metadata": {},
   "outputs": [],
   "source": [
    "cut_df.loc[:, \"bedrooms_squared\"] = cut_df[\"bedrooms\"] ** 2\n",
    "cut_df.loc[:, \"bathrooms_squared\"] = cut_df[\"bathrooms\"] ** 2\n",
    "cut_df.loc[:, \"interest_level_squared\"] = cut_df[\"interest_level\"] ** 2"
   ]
  },
  {
   "cell_type": "markdown",
   "id": "bc70fc7a",
   "metadata": {},
   "source": [
    "Check `cut_df` *Pandas* dataframe:"
   ]
  },
  {
   "cell_type": "code",
   "execution_count": 32,
   "id": "30673b89",
   "metadata": {},
   "outputs": [
    {
     "data": {
      "text/html": [
       "<div>\n",
       "<style scoped>\n",
       "    .dataframe tbody tr th:only-of-type {\n",
       "        vertical-align: middle;\n",
       "    }\n",
       "\n",
       "    .dataframe tbody tr th {\n",
       "        vertical-align: top;\n",
       "    }\n",
       "\n",
       "    .dataframe thead th {\n",
       "        text-align: right;\n",
       "    }\n",
       "</style>\n",
       "<table border=\"1\" class=\"dataframe\">\n",
       "  <thead>\n",
       "    <tr style=\"text-align: right;\">\n",
       "      <th></th>\n",
       "      <th>price</th>\n",
       "      <th>bedrooms</th>\n",
       "      <th>bathrooms</th>\n",
       "      <th>interest_level</th>\n",
       "      <th>bedrooms_squared</th>\n",
       "      <th>bathrooms_squared</th>\n",
       "      <th>interest_level_squared</th>\n",
       "    </tr>\n",
       "  </thead>\n",
       "  <tbody>\n",
       "    <tr>\n",
       "      <th>4</th>\n",
       "      <td>2400</td>\n",
       "      <td>1</td>\n",
       "      <td>1.0</td>\n",
       "      <td>2</td>\n",
       "      <td>1</td>\n",
       "      <td>1.00</td>\n",
       "      <td>4</td>\n",
       "    </tr>\n",
       "    <tr>\n",
       "      <th>6</th>\n",
       "      <td>3800</td>\n",
       "      <td>2</td>\n",
       "      <td>1.0</td>\n",
       "      <td>1</td>\n",
       "      <td>4</td>\n",
       "      <td>1.00</td>\n",
       "      <td>1</td>\n",
       "    </tr>\n",
       "    <tr>\n",
       "      <th>9</th>\n",
       "      <td>3495</td>\n",
       "      <td>2</td>\n",
       "      <td>1.0</td>\n",
       "      <td>2</td>\n",
       "      <td>4</td>\n",
       "      <td>1.00</td>\n",
       "      <td>4</td>\n",
       "    </tr>\n",
       "    <tr>\n",
       "      <th>10</th>\n",
       "      <td>3000</td>\n",
       "      <td>3</td>\n",
       "      <td>1.5</td>\n",
       "      <td>2</td>\n",
       "      <td>9</td>\n",
       "      <td>2.25</td>\n",
       "      <td>4</td>\n",
       "    </tr>\n",
       "    <tr>\n",
       "      <th>15</th>\n",
       "      <td>2795</td>\n",
       "      <td>0</td>\n",
       "      <td>1.0</td>\n",
       "      <td>1</td>\n",
       "      <td>0</td>\n",
       "      <td>1.00</td>\n",
       "      <td>1</td>\n",
       "    </tr>\n",
       "    <tr>\n",
       "      <th>...</th>\n",
       "      <td>...</td>\n",
       "      <td>...</td>\n",
       "      <td>...</td>\n",
       "      <td>...</td>\n",
       "      <td>...</td>\n",
       "      <td>...</td>\n",
       "      <td>...</td>\n",
       "    </tr>\n",
       "    <tr>\n",
       "      <th>124000</th>\n",
       "      <td>2800</td>\n",
       "      <td>3</td>\n",
       "      <td>1.0</td>\n",
       "      <td>1</td>\n",
       "      <td>9</td>\n",
       "      <td>1.00</td>\n",
       "      <td>1</td>\n",
       "    </tr>\n",
       "    <tr>\n",
       "      <th>124002</th>\n",
       "      <td>2395</td>\n",
       "      <td>2</td>\n",
       "      <td>1.0</td>\n",
       "      <td>2</td>\n",
       "      <td>4</td>\n",
       "      <td>1.00</td>\n",
       "      <td>4</td>\n",
       "    </tr>\n",
       "    <tr>\n",
       "      <th>124004</th>\n",
       "      <td>1850</td>\n",
       "      <td>1</td>\n",
       "      <td>1.0</td>\n",
       "      <td>2</td>\n",
       "      <td>1</td>\n",
       "      <td>1.00</td>\n",
       "      <td>4</td>\n",
       "    </tr>\n",
       "    <tr>\n",
       "      <th>124008</th>\n",
       "      <td>4195</td>\n",
       "      <td>2</td>\n",
       "      <td>1.0</td>\n",
       "      <td>2</td>\n",
       "      <td>4</td>\n",
       "      <td>1.00</td>\n",
       "      <td>4</td>\n",
       "    </tr>\n",
       "    <tr>\n",
       "      <th>124009</th>\n",
       "      <td>4280</td>\n",
       "      <td>3</td>\n",
       "      <td>1.0</td>\n",
       "      <td>0</td>\n",
       "      <td>9</td>\n",
       "      <td>1.00</td>\n",
       "      <td>0</td>\n",
       "    </tr>\n",
       "  </tbody>\n",
       "</table>\n",
       "<p>48379 rows × 7 columns</p>\n",
       "</div>"
      ],
      "text/plain": [
       "        price  bedrooms  bathrooms interest_level  bedrooms_squared  \\\n",
       "4        2400         1        1.0              2                 1   \n",
       "6        3800         2        1.0              1                 4   \n",
       "9        3495         2        1.0              2                 4   \n",
       "10       3000         3        1.5              2                 9   \n",
       "15       2795         0        1.0              1                 0   \n",
       "...       ...       ...        ...            ...               ...   \n",
       "124000   2800         3        1.0              1                 9   \n",
       "124002   2395         2        1.0              2                 4   \n",
       "124004   1850         1        1.0              2                 1   \n",
       "124008   4195         2        1.0              2                 4   \n",
       "124009   4280         3        1.0              0                 9   \n",
       "\n",
       "        bathrooms_squared interest_level_squared  \n",
       "4                    1.00                      4  \n",
       "6                    1.00                      1  \n",
       "9                    1.00                      4  \n",
       "10                   2.25                      4  \n",
       "15                   1.00                      1  \n",
       "...                   ...                    ...  \n",
       "124000               1.00                      1  \n",
       "124002               1.00                      4  \n",
       "124004               1.00                      4  \n",
       "124008               1.00                      4  \n",
       "124009               1.00                      0  \n",
       "\n",
       "[48379 rows x 7 columns]"
      ]
     },
     "execution_count": 32,
     "metadata": {},
     "output_type": "execute_result"
    }
   ],
   "source": [
    "cut_df"
   ]
  },
  {
   "cell_type": "markdown",
   "id": "66e2263b",
   "metadata": {},
   "source": [
    "### Plot a correlation matrix with features:"
   ]
  },
  {
   "cell_type": "code",
   "execution_count": 33,
   "id": "938146fc",
   "metadata": {},
   "outputs": [
    {
     "data": {
      "image/png": "[encoded data removed]",
      "text/plain": [
       "<Figure size 1800x1200 with 2 Axes>"
      ]
     },
     "metadata": {},
     "output_type": "display_data"
    }
   ],
   "source": [
    "plt.figure(figsize=(18, 12, ), )\n",
    "sns.heatmap(\n",
    "    cut_df.corr(),\n",
    "    vmax=1,\n",
    "    vmin=-1,\n",
    "    fmt=\".2f\",\n",
    "    annot=True,\n",
    "    square=True,\n",
    ")\n",
    "plt.title(\n",
    "    \"New Correlation Matrix Between Features and `price` Target\",\n",
    "    pad=10,\n",
    "    fontsize=18,\n",
    ")\n",
    "plt.yticks(rotation=90, )\n",
    "plt.show();"
   ]
  },
  {
   "cell_type": "markdown",
   "id": "72e8b122",
   "metadata": {},
   "source": [
    "### `Are new features more correlated with target then basic features?`"
   ]
  },
  {
   "cell_type": "markdown",
   "id": "49e07c06",
   "metadata": {},
   "source": [
    "Answer: no, only `interest_level_squared` feature correlate more then it's base feature."
   ]
  },
  {
   "cell_type": "markdown",
   "id": "b5c1060b",
   "metadata": {},
   "source": [
    "### To train the model, we will consider: `bathrooms`, `bedrooms` features:"
   ]
  },
  {
   "cell_type": "code",
   "execution_count": 34,
   "id": "6f0bd871",
   "metadata": {},
   "outputs": [],
   "source": [
    "y: Series = cut_df[\"price\"]\n",
    "X: DataFrame = cut_df[[\"bathrooms\", \"bedrooms\", ]]"
   ]
  },
  {
   "cell_type": "markdown",
   "id": "ba7a448a",
   "metadata": {},
   "source": [
    "Check `X` *Pandas* dataframe:"
   ]
  },
  {
   "cell_type": "code",
   "execution_count": 35,
   "id": "d39dcc39",
   "metadata": {},
   "outputs": [
    {
     "data": {
      "text/html": [
       "<div>\n",
       "<style scoped>\n",
       "    .dataframe tbody tr th:only-of-type {\n",
       "        vertical-align: middle;\n",
       "    }\n",
       "\n",
       "    .dataframe tbody tr th {\n",
       "        vertical-align: top;\n",
       "    }\n",
       "\n",
       "    .dataframe thead th {\n",
       "        text-align: right;\n",
       "    }\n",
       "</style>\n",
       "<table border=\"1\" class=\"dataframe\">\n",
       "  <thead>\n",
       "    <tr style=\"text-align: right;\">\n",
       "      <th></th>\n",
       "      <th>bathrooms</th>\n",
       "      <th>bedrooms</th>\n",
       "    </tr>\n",
       "  </thead>\n",
       "  <tbody>\n",
       "    <tr>\n",
       "      <th>4</th>\n",
       "      <td>1.0</td>\n",
       "      <td>1</td>\n",
       "    </tr>\n",
       "    <tr>\n",
       "      <th>6</th>\n",
       "      <td>1.0</td>\n",
       "      <td>2</td>\n",
       "    </tr>\n",
       "    <tr>\n",
       "      <th>9</th>\n",
       "      <td>1.0</td>\n",
       "      <td>2</td>\n",
       "    </tr>\n",
       "    <tr>\n",
       "      <th>10</th>\n",
       "      <td>1.5</td>\n",
       "      <td>3</td>\n",
       "    </tr>\n",
       "    <tr>\n",
       "      <th>15</th>\n",
       "      <td>1.0</td>\n",
       "      <td>0</td>\n",
       "    </tr>\n",
       "    <tr>\n",
       "      <th>...</th>\n",
       "      <td>...</td>\n",
       "      <td>...</td>\n",
       "    </tr>\n",
       "    <tr>\n",
       "      <th>124000</th>\n",
       "      <td>1.0</td>\n",
       "      <td>3</td>\n",
       "    </tr>\n",
       "    <tr>\n",
       "      <th>124002</th>\n",
       "      <td>1.0</td>\n",
       "      <td>2</td>\n",
       "    </tr>\n",
       "    <tr>\n",
       "      <th>124004</th>\n",
       "      <td>1.0</td>\n",
       "      <td>1</td>\n",
       "    </tr>\n",
       "    <tr>\n",
       "      <th>124008</th>\n",
       "      <td>1.0</td>\n",
       "      <td>2</td>\n",
       "    </tr>\n",
       "    <tr>\n",
       "      <th>124009</th>\n",
       "      <td>1.0</td>\n",
       "      <td>3</td>\n",
       "    </tr>\n",
       "  </tbody>\n",
       "</table>\n",
       "<p>48379 rows × 2 columns</p>\n",
       "</div>"
      ],
      "text/plain": [
       "        bathrooms  bedrooms\n",
       "4             1.0         1\n",
       "6             1.0         2\n",
       "9             1.0         2\n",
       "10            1.5         3\n",
       "15            1.0         0\n",
       "...           ...       ...\n",
       "124000        1.0         3\n",
       "124002        1.0         2\n",
       "124004        1.0         1\n",
       "124008        1.0         2\n",
       "124009        1.0         3\n",
       "\n",
       "[48379 rows x 2 columns]"
      ]
     },
     "execution_count": 35,
     "metadata": {},
     "output_type": "execute_result"
    }
   ],
   "source": [
    "X"
   ]
  },
  {
   "cell_type": "markdown",
   "id": "baa89b9b",
   "metadata": {},
   "source": [
    "Check `y` *Pandas* series:"
   ]
  },
  {
   "cell_type": "code",
   "execution_count": 36,
   "id": "0efb2655",
   "metadata": {},
   "outputs": [
    {
     "data": {
      "text/plain": [
       "4         2400\n",
       "6         3800\n",
       "9         3495\n",
       "10        3000\n",
       "15        2795\n",
       "          ... \n",
       "124000    2800\n",
       "124002    2395\n",
       "124004    1850\n",
       "124008    4195\n",
       "124009    4280\n",
       "Name: price, Length: 48379, dtype: int64"
      ]
     },
     "execution_count": 36,
     "metadata": {},
     "output_type": "execute_result"
    }
   ],
   "source": [
    "y"
   ]
  },
  {
   "cell_type": "markdown",
   "id": "1bb770f3",
   "metadata": {},
   "source": [
    "### Split data to *train* and *test* samples:"
   ]
  },
  {
   "cell_type": "code",
   "execution_count": 37,
   "id": "d6443ebb",
   "metadata": {},
   "outputs": [],
   "source": [
    "X_train, X_test, y_train, y_test = train_test_split(\n",
    "    X,\n",
    "    y,\n",
    "    test_size=0.2,\n",
    "    random_state=21,\n",
    ")"
   ]
  },
  {
   "cell_type": "markdown",
   "id": "2a31a3f9",
   "metadata": {},
   "source": [
    "Check `X_train`, `X_test`, `y_train`, `y_test` *Pandas* structures:"
   ]
  },
  {
   "cell_type": "code",
   "execution_count": 38,
   "id": "085c5a5a",
   "metadata": {},
   "outputs": [
    {
     "data": {
      "text/html": [
       "<div>\n",
       "<style scoped>\n",
       "    .dataframe tbody tr th:only-of-type {\n",
       "        vertical-align: middle;\n",
       "    }\n",
       "\n",
       "    .dataframe tbody tr th {\n",
       "        vertical-align: top;\n",
       "    }\n",
       "\n",
       "    .dataframe thead th {\n",
       "        text-align: right;\n",
       "    }\n",
       "</style>\n",
       "<table border=\"1\" class=\"dataframe\">\n",
       "  <thead>\n",
       "    <tr style=\"text-align: right;\">\n",
       "      <th></th>\n",
       "      <th>bathrooms</th>\n",
       "      <th>bedrooms</th>\n",
       "    </tr>\n",
       "  </thead>\n",
       "  <tbody>\n",
       "    <tr>\n",
       "      <th>114912</th>\n",
       "      <td>1.0</td>\n",
       "      <td>1</td>\n",
       "    </tr>\n",
       "    <tr>\n",
       "      <th>7415</th>\n",
       "      <td>2.0</td>\n",
       "      <td>3</td>\n",
       "    </tr>\n",
       "    <tr>\n",
       "      <th>33694</th>\n",
       "      <td>1.0</td>\n",
       "      <td>0</td>\n",
       "    </tr>\n",
       "    <tr>\n",
       "      <th>111682</th>\n",
       "      <td>1.0</td>\n",
       "      <td>1</td>\n",
       "    </tr>\n",
       "    <tr>\n",
       "      <th>27658</th>\n",
       "      <td>2.0</td>\n",
       "      <td>2</td>\n",
       "    </tr>\n",
       "    <tr>\n",
       "      <th>...</th>\n",
       "      <td>...</td>\n",
       "      <td>...</td>\n",
       "    </tr>\n",
       "    <tr>\n",
       "      <th>42218</th>\n",
       "      <td>2.0</td>\n",
       "      <td>3</td>\n",
       "    </tr>\n",
       "    <tr>\n",
       "      <th>23111</th>\n",
       "      <td>1.0</td>\n",
       "      <td>2</td>\n",
       "    </tr>\n",
       "    <tr>\n",
       "      <th>15351</th>\n",
       "      <td>2.0</td>\n",
       "      <td>3</td>\n",
       "    </tr>\n",
       "    <tr>\n",
       "      <th>13731</th>\n",
       "      <td>1.0</td>\n",
       "      <td>1</td>\n",
       "    </tr>\n",
       "    <tr>\n",
       "      <th>39242</th>\n",
       "      <td>1.0</td>\n",
       "      <td>1</td>\n",
       "    </tr>\n",
       "  </tbody>\n",
       "</table>\n",
       "<p>38703 rows × 2 columns</p>\n",
       "</div>"
      ],
      "text/plain": [
       "        bathrooms  bedrooms\n",
       "114912        1.0         1\n",
       "7415          2.0         3\n",
       "33694         1.0         0\n",
       "111682        1.0         1\n",
       "27658         2.0         2\n",
       "...           ...       ...\n",
       "42218         2.0         3\n",
       "23111         1.0         2\n",
       "15351         2.0         3\n",
       "13731         1.0         1\n",
       "39242         1.0         1\n",
       "\n",
       "[38703 rows x 2 columns]"
      ]
     },
     "execution_count": 38,
     "metadata": {},
     "output_type": "execute_result"
    }
   ],
   "source": [
    "X_train"
   ]
  },
  {
   "cell_type": "code",
   "execution_count": 39,
   "id": "745072e4",
   "metadata": {},
   "outputs": [
    {
     "data": {
      "text/html": [
       "<div>\n",
       "<style scoped>\n",
       "    .dataframe tbody tr th:only-of-type {\n",
       "        vertical-align: middle;\n",
       "    }\n",
       "\n",
       "    .dataframe tbody tr th {\n",
       "        vertical-align: top;\n",
       "    }\n",
       "\n",
       "    .dataframe thead th {\n",
       "        text-align: right;\n",
       "    }\n",
       "</style>\n",
       "<table border=\"1\" class=\"dataframe\">\n",
       "  <thead>\n",
       "    <tr style=\"text-align: right;\">\n",
       "      <th></th>\n",
       "      <th>bathrooms</th>\n",
       "      <th>bedrooms</th>\n",
       "    </tr>\n",
       "  </thead>\n",
       "  <tbody>\n",
       "    <tr>\n",
       "      <th>3230</th>\n",
       "      <td>1.0</td>\n",
       "      <td>2</td>\n",
       "    </tr>\n",
       "    <tr>\n",
       "      <th>94946</th>\n",
       "      <td>1.0</td>\n",
       "      <td>0</td>\n",
       "    </tr>\n",
       "    <tr>\n",
       "      <th>75895</th>\n",
       "      <td>1.0</td>\n",
       "      <td>0</td>\n",
       "    </tr>\n",
       "    <tr>\n",
       "      <th>33174</th>\n",
       "      <td>1.0</td>\n",
       "      <td>1</td>\n",
       "    </tr>\n",
       "    <tr>\n",
       "      <th>123977</th>\n",
       "      <td>1.0</td>\n",
       "      <td>1</td>\n",
       "    </tr>\n",
       "    <tr>\n",
       "      <th>...</th>\n",
       "      <td>...</td>\n",
       "      <td>...</td>\n",
       "    </tr>\n",
       "    <tr>\n",
       "      <th>106147</th>\n",
       "      <td>1.0</td>\n",
       "      <td>1</td>\n",
       "    </tr>\n",
       "    <tr>\n",
       "      <th>13202</th>\n",
       "      <td>1.0</td>\n",
       "      <td>1</td>\n",
       "    </tr>\n",
       "    <tr>\n",
       "      <th>120652</th>\n",
       "      <td>1.0</td>\n",
       "      <td>1</td>\n",
       "    </tr>\n",
       "    <tr>\n",
       "      <th>118699</th>\n",
       "      <td>2.0</td>\n",
       "      <td>3</td>\n",
       "    </tr>\n",
       "    <tr>\n",
       "      <th>101334</th>\n",
       "      <td>1.0</td>\n",
       "      <td>2</td>\n",
       "    </tr>\n",
       "  </tbody>\n",
       "</table>\n",
       "<p>9676 rows × 2 columns</p>\n",
       "</div>"
      ],
      "text/plain": [
       "        bathrooms  bedrooms\n",
       "3230          1.0         2\n",
       "94946         1.0         0\n",
       "75895         1.0         0\n",
       "33174         1.0         1\n",
       "123977        1.0         1\n",
       "...           ...       ...\n",
       "106147        1.0         1\n",
       "13202         1.0         1\n",
       "120652        1.0         1\n",
       "118699        2.0         3\n",
       "101334        1.0         2\n",
       "\n",
       "[9676 rows x 2 columns]"
      ]
     },
     "execution_count": 39,
     "metadata": {},
     "output_type": "execute_result"
    }
   ],
   "source": [
    "X_test"
   ]
  },
  {
   "cell_type": "code",
   "execution_count": 40,
   "id": "0d90ebcb",
   "metadata": {},
   "outputs": [
    {
     "data": {
      "text/plain": [
       "114912    4995\n",
       "7415      7850\n",
       "33694     2465\n",
       "111682    2400\n",
       "27658     6200\n",
       "          ... \n",
       "42218     4495\n",
       "23111     3200\n",
       "15351     4900\n",
       "13731     2150\n",
       "39242     2495\n",
       "Name: price, Length: 38703, dtype: int64"
      ]
     },
     "execution_count": 40,
     "metadata": {},
     "output_type": "execute_result"
    }
   ],
   "source": [
    "y_train"
   ]
  },
  {
   "cell_type": "code",
   "execution_count": 41,
   "id": "b3db7a34",
   "metadata": {},
   "outputs": [
    {
     "data": {
      "text/plain": [
       "3230      2850\n",
       "94946     2400\n",
       "75895     2550\n",
       "33174     2400\n",
       "123977    3795\n",
       "          ... \n",
       "106147    1550\n",
       "13202     6231\n",
       "120652    2200\n",
       "118699    4300\n",
       "101334    4700\n",
       "Name: price, Length: 9676, dtype: int64"
      ]
     },
     "execution_count": 41,
     "metadata": {},
     "output_type": "execute_result"
    }
   ],
   "source": [
    "y_test"
   ]
  },
  {
   "cell_type": "markdown",
   "id": "86bd810f",
   "metadata": {},
   "source": [
    "### Initialize `PolynomialFeatures()` with the degree of `10`:"
   ]
  },
  {
   "cell_type": "code",
   "execution_count": 42,
   "id": "1365c51d",
   "metadata": {},
   "outputs": [],
   "source": [
    "poly_features_model: PolynomialFeatures = PolynomialFeatures(10, )"
   ]
  },
  {
   "cell_type": "markdown",
   "id": "c2a74b35",
   "metadata": {},
   "source": [
    "### Apply `poly_features_model` to fit and transform train and test data:"
   ]
  },
  {
   "cell_type": "code",
   "execution_count": 43,
   "id": "1a0b39d7",
   "metadata": {},
   "outputs": [],
   "source": [
    "X_train_poly: DataFrame = poly_features_model.fit_transform(X_train, )"
   ]
  },
  {
   "cell_type": "code",
   "execution_count": 44,
   "id": "0996150e",
   "metadata": {},
   "outputs": [],
   "source": [
    "X_test_poly: DataFrame = poly_features_model.fit_transform(X_test, )"
   ]
  },
  {
   "cell_type": "markdown",
   "id": "656a8361",
   "metadata": {},
   "source": [
    "Check `X_train_poly` and `X_test_poly` *Pandas* dataframe:"
   ]
  },
  {
   "cell_type": "code",
   "execution_count": 45,
   "id": "66564730",
   "metadata": {},
   "outputs": [
    {
     "data": {
      "text/plain": [
       "array([[1.0000e+00, 1.0000e+00, 1.0000e+00, ..., 1.0000e+00, 1.0000e+00,\n",
       "        1.0000e+00],\n",
       "       [1.0000e+00, 2.0000e+00, 3.0000e+00, ..., 2.6244e+04, 3.9366e+04,\n",
       "        5.9049e+04],\n",
       "       [1.0000e+00, 1.0000e+00, 0.0000e+00, ..., 0.0000e+00, 0.0000e+00,\n",
       "        0.0000e+00],\n",
       "       ...,\n",
       "       [1.0000e+00, 2.0000e+00, 3.0000e+00, ..., 2.6244e+04, 3.9366e+04,\n",
       "        5.9049e+04],\n",
       "       [1.0000e+00, 1.0000e+00, 1.0000e+00, ..., 1.0000e+00, 1.0000e+00,\n",
       "        1.0000e+00],\n",
       "       [1.0000e+00, 1.0000e+00, 1.0000e+00, ..., 1.0000e+00, 1.0000e+00,\n",
       "        1.0000e+00]], shape=(38703, 66))"
      ]
     },
     "execution_count": 45,
     "metadata": {},
     "output_type": "execute_result"
    }
   ],
   "source": [
    "X_train_poly"
   ]
  },
  {
   "cell_type": "code",
   "execution_count": 46,
   "id": "dde2f63e",
   "metadata": {},
   "outputs": [
    {
     "data": {
      "text/plain": [
       "array([[1.0000e+00, 1.0000e+00, 2.0000e+00, ..., 2.5600e+02, 5.1200e+02,\n",
       "        1.0240e+03],\n",
       "       [1.0000e+00, 1.0000e+00, 0.0000e+00, ..., 0.0000e+00, 0.0000e+00,\n",
       "        0.0000e+00],\n",
       "       [1.0000e+00, 1.0000e+00, 0.0000e+00, ..., 0.0000e+00, 0.0000e+00,\n",
       "        0.0000e+00],\n",
       "       ...,\n",
       "       [1.0000e+00, 1.0000e+00, 1.0000e+00, ..., 1.0000e+00, 1.0000e+00,\n",
       "        1.0000e+00],\n",
       "       [1.0000e+00, 2.0000e+00, 3.0000e+00, ..., 2.6244e+04, 3.9366e+04,\n",
       "        5.9049e+04],\n",
       "       [1.0000e+00, 1.0000e+00, 2.0000e+00, ..., 2.5600e+02, 5.1200e+02,\n",
       "        1.0240e+03]], shape=(9676, 66))"
      ]
     },
     "execution_count": 46,
     "metadata": {},
     "output_type": "execute_result"
    }
   ],
   "source": [
    "X_test_poly"
   ]
  },
  {
   "cell_type": "markdown",
   "id": "c6039a3c",
   "metadata": {},
   "source": [
    "## Train `3` models:"
   ]
  },
  {
   "cell_type": "markdown",
   "id": "e24eb508",
   "metadata": {},
   "source": [
    "### Create two *Pandas* dataframe's with columns: `model`, `train`, `test`:"
   ]
  },
  {
   "cell_type": "code",
   "execution_count": 47,
   "id": "796dc142",
   "metadata": {},
   "outputs": [],
   "source": [
    "result_MAE: DataFrame = DataFrame(\n",
    "    {\n",
    "        \"test\": [],\n",
    "        \"model\": [],\n",
    "        \"train\": [],\n",
    "    },\n",
    ")\n",
    "result_RMSE: DataFrame = DataFrame(\n",
    "    {\n",
    "        \"test\": [],\n",
    "        \"model\": [],\n",
    "        \"train\": [],\n",
    "    },\n",
    ")"
   ]
  },
  {
   "cell_type": "markdown",
   "id": "a7446269",
   "metadata": {},
   "source": [
    "### Initialize *Linear Regression* without parameters:"
   ]
  },
  {
   "cell_type": "code",
   "execution_count": 48,
   "id": "a5a5e4f6",
   "metadata": {},
   "outputs": [],
   "source": [
    "lin_reg_model: LinearRegression = LinearRegression()"
   ]
  },
  {
   "cell_type": "markdown",
   "id": "4ab819e7",
   "metadata": {},
   "source": [
    "### Fit `lin_reg_model` and make predict on train and test data:"
   ]
  },
  {
   "cell_type": "code",
   "execution_count": 49,
   "id": "afa25fc8",
   "metadata": {},
   "outputs": [],
   "source": [
    "lin_reg_model.fit(X_train_poly, y_train, );"
   ]
  },
  {
   "cell_type": "markdown",
   "id": "c94f894b",
   "metadata": {},
   "source": [
    "Get `lin_reg_model` predictions:"
   ]
  },
  {
   "cell_type": "code",
   "execution_count": 50,
   "id": "78611854",
   "metadata": {},
   "outputs": [],
   "source": [
    "lin_reg_preds: array = lin_reg_model.predict(X_test_poly, );"
   ]
  },
  {
   "cell_type": "markdown",
   "id": "e8414cf7",
   "metadata": {},
   "source": [
    "Check `lin_reg_preds` *NumPy* array:"
   ]
  },
  {
   "cell_type": "code",
   "execution_count": 51,
   "id": "7a3fb769",
   "metadata": {},
   "outputs": [
    {
     "data": {
      "text/plain": [
       "array([3200.01941594, 2474.85488452, 2474.85488452, ..., 3038.30505582,\n",
       "       5227.47643279, 3200.01941594], shape=(9676,))"
      ]
     },
     "execution_count": 51,
     "metadata": {},
     "output_type": "execute_result"
    }
   ],
   "source": [
    "lin_reg_preds"
   ]
  },
  {
   "cell_type": "markdown",
   "id": "6ae9a63f",
   "metadata": {},
   "source": [
    "### Calculate *MAE* (Mean Absolute Error) on train and test targets:"
   ]
  },
  {
   "cell_type": "code",
   "execution_count": 52,
   "id": "85f018d6",
   "metadata": {},
   "outputs": [],
   "source": [
    "lin_reg_model_train_mae: float = mean_absolute_error(\n",
    "    y_train,\n",
    "    lin_reg_model.predict(X_train_poly, ),\n",
    ")\n",
    "lin_reg_model_test_mae: float = mean_absolute_error(\n",
    "    y_test,\n",
    "    lin_reg_model.predict(X_test_poly, ),\n",
    ")"
   ]
  },
  {
   "cell_type": "markdown",
   "id": "67c3ba65",
   "metadata": {},
   "source": [
    "### Calculate *RMSE* (Root Mean Square Error) on train and test targets:"
   ]
  },
  {
   "cell_type": "code",
   "execution_count": 53,
   "id": "abd68ec9",
   "metadata": {},
   "outputs": [],
   "source": [
    "lin_reg_model_train_rmse: float = mean_squared_error(\n",
    "    y_train,\n",
    "    lin_reg_model.predict(X_train_poly, ),\n",
    ") ** 0.5\n",
    "lin_reg_model_test_rmse: float = mean_squared_error(\n",
    "    y_test,\n",
    "    lin_reg_model.predict(X_test_poly, ),\n",
    ") ** 0.5"
   ]
  },
  {
   "cell_type": "markdown",
   "id": "cb6f169d",
   "metadata": {},
   "source": [
    "### Insert metrics into tables *result_MAE* and *result_RMSE* with model name `linear_regression`:"
   ]
  },
  {
   "cell_type": "code",
   "execution_count": 54,
   "id": "e90f29ba",
   "metadata": {},
   "outputs": [],
   "source": [
    "result_MAE.loc[len(result_MAE, )] = [\n",
    "    lin_reg_model_test_mae,\n",
    "    \"linear_regression\",\n",
    "    lin_reg_model_train_mae,\n",
    "]"
   ]
  },
  {
   "cell_type": "code",
   "execution_count": 55,
   "id": "8db050cb",
   "metadata": {},
   "outputs": [],
   "source": [
    "result_RMSE.loc[len(result_RMSE, )] = [\n",
    "    lin_reg_model_test_rmse,\n",
    "    \"linear_regression\",\n",
    "    lin_reg_model_train_rmse,\n",
    "]"
   ]
  },
  {
   "cell_type": "markdown",
   "id": "c823f4cb",
   "metadata": {},
   "source": [
    "Check `result_MAE` and `result_RMSE` *Pandas* dataframes:"
   ]
  },
  {
   "cell_type": "code",
   "execution_count": 56,
   "id": "d3a304c0",
   "metadata": {},
   "outputs": [
    {
     "data": {
      "text/html": [
       "<div>\n",
       "<style scoped>\n",
       "    .dataframe tbody tr th:only-of-type {\n",
       "        vertical-align: middle;\n",
       "    }\n",
       "\n",
       "    .dataframe tbody tr th {\n",
       "        vertical-align: top;\n",
       "    }\n",
       "\n",
       "    .dataframe thead th {\n",
       "        text-align: right;\n",
       "    }\n",
       "</style>\n",
       "<table border=\"1\" class=\"dataframe\">\n",
       "  <thead>\n",
       "    <tr style=\"text-align: right;\">\n",
       "      <th></th>\n",
       "      <th>test</th>\n",
       "      <th>model</th>\n",
       "      <th>train</th>\n",
       "    </tr>\n",
       "  </thead>\n",
       "  <tbody>\n",
       "    <tr>\n",
       "      <th>0</th>\n",
       "      <td>759.829898</td>\n",
       "      <td>linear_regression</td>\n",
       "      <td>756.726508</td>\n",
       "    </tr>\n",
       "  </tbody>\n",
       "</table>\n",
       "</div>"
      ],
      "text/plain": [
       "         test              model       train\n",
       "0  759.829898  linear_regression  756.726508"
      ]
     },
     "execution_count": 56,
     "metadata": {},
     "output_type": "execute_result"
    }
   ],
   "source": [
    "result_MAE"
   ]
  },
  {
   "cell_type": "code",
   "execution_count": 57,
   "id": "ed27d37a",
   "metadata": {},
   "outputs": [
    {
     "data": {
      "text/html": [
       "<div>\n",
       "<style scoped>\n",
       "    .dataframe tbody tr th:only-of-type {\n",
       "        vertical-align: middle;\n",
       "    }\n",
       "\n",
       "    .dataframe tbody tr th {\n",
       "        vertical-align: top;\n",
       "    }\n",
       "\n",
       "    .dataframe thead th {\n",
       "        text-align: right;\n",
       "    }\n",
       "</style>\n",
       "<table border=\"1\" class=\"dataframe\">\n",
       "  <thead>\n",
       "    <tr style=\"text-align: right;\">\n",
       "      <th></th>\n",
       "      <th>test</th>\n",
       "      <th>model</th>\n",
       "      <th>train</th>\n",
       "    </tr>\n",
       "  </thead>\n",
       "  <tbody>\n",
       "    <tr>\n",
       "      <th>0</th>\n",
       "      <td>1247.298979</td>\n",
       "      <td>linear_regression</td>\n",
       "      <td>1079.066347</td>\n",
       "    </tr>\n",
       "  </tbody>\n",
       "</table>\n",
       "</div>"
      ],
      "text/plain": [
       "          test              model        train\n",
       "0  1247.298979  linear_regression  1079.066347"
      ]
     },
     "execution_count": 57,
     "metadata": {},
     "output_type": "execute_result"
    }
   ],
   "source": [
    "result_RMSE"
   ]
  },
  {
   "cell_type": "markdown",
   "id": "3ab4c9a6",
   "metadata": {},
   "source": [
    "### Initialize *decision tree* regressor from *sklearn* with `random_state=42`:"
   ]
  },
  {
   "cell_type": "code",
   "execution_count": 58,
   "id": "6119fce1",
   "metadata": {},
   "outputs": [],
   "source": [
    "tree_model: DecisionTreeRegressor = DecisionTreeRegressor(random_state=42, )"
   ]
  },
  {
   "cell_type": "markdown",
   "id": "a0d224a7",
   "metadata": {},
   "source": [
    "### Fit it on train features and train target and make predict on train and test features:"
   ]
  },
  {
   "cell_type": "code",
   "execution_count": 59,
   "id": "6006fea0",
   "metadata": {},
   "outputs": [],
   "source": [
    "tree_model.fit(X_train_poly, y_train, );"
   ]
  },
  {
   "cell_type": "markdown",
   "id": "2cb03171",
   "metadata": {},
   "source": [
    "Get `tree_model` predictions:"
   ]
  },
  {
   "cell_type": "code",
   "execution_count": 60,
   "id": "46aac806",
   "metadata": {},
   "outputs": [],
   "source": [
    "tree_preds: array = tree_model.predict(X_test_poly, );"
   ]
  },
  {
   "cell_type": "markdown",
   "id": "01eec07a",
   "metadata": {},
   "source": [
    "Check `tree_preds` *NumPy* array:"
   ]
  },
  {
   "cell_type": "code",
   "execution_count": 61,
   "id": "3d06e1f9",
   "metadata": {},
   "outputs": [
    {
     "data": {
      "text/plain": [
       "array([3200.33558198, 2474.74774775, 2474.74774775, ..., 3038.09639252,\n",
       "       5232.66202873, 3200.33558198], shape=(9676,))"
      ]
     },
     "execution_count": 61,
     "metadata": {},
     "output_type": "execute_result"
    }
   ],
   "source": [
    "tree_preds"
   ]
  },
  {
   "cell_type": "markdown",
   "id": "5c2e30a4",
   "metadata": {},
   "source": [
    "### Calculate *MAE* (Mean Absolute Error) on train and test targets:"
   ]
  },
  {
   "cell_type": "code",
   "execution_count": 62,
   "id": "690aea26",
   "metadata": {},
   "outputs": [],
   "source": [
    "tree_model_train_mae: float = mean_absolute_error(\n",
    "    y_train,\n",
    "    tree_model.predict(X_train_poly, ),\n",
    ")\n",
    "tree_model_test_mae: float = mean_absolute_error(\n",
    "    y_test,\n",
    "    tree_model.predict(X_test_poly, ),\n",
    ")"
   ]
  },
  {
   "cell_type": "markdown",
   "id": "b883606a",
   "metadata": {},
   "source": [
    "### Calculate *RMSE* (Root Mean Square Error) on train and test targets:"
   ]
  },
  {
   "cell_type": "code",
   "execution_count": 63,
   "id": "2bdb754d",
   "metadata": {},
   "outputs": [],
   "source": [
    "tree_model_train_rmse: float = mean_squared_error(\n",
    "    y_train,\n",
    "    tree_model.predict(X_train_poly, ),\n",
    ") ** 0.5\n",
    "tree_model_test_rmse: float = mean_squared_error(\n",
    "    y_test,\n",
    "    tree_model.predict(X_test_poly, ),\n",
    ") ** 0.5"
   ]
  },
  {
   "cell_type": "markdown",
   "id": "33d1bfc7",
   "metadata": {},
   "source": [
    "### Insert metrics into tables *result_MAE* and *result_RMSE* with model name `decision_tree`:"
   ]
  },
  {
   "cell_type": "code",
   "execution_count": 64,
   "id": "caba8cca",
   "metadata": {},
   "outputs": [],
   "source": [
    "result_MAE.loc[len(result_MAE, )] = [\n",
    "    tree_model_test_mae,\n",
    "    \"decision_tree\",\n",
    "    tree_model_train_mae,\n",
    "]"
   ]
  },
  {
   "cell_type": "code",
   "execution_count": 65,
   "id": "4d65a9c7",
   "metadata": {},
   "outputs": [],
   "source": [
    "result_RMSE.loc[len(result_RMSE, )] = [\n",
    "    tree_model_test_rmse,\n",
    "    \"decision_tree\",\n",
    "    tree_model_train_rmse,\n",
    "]"
   ]
  },
  {
   "cell_type": "markdown",
   "id": "34046209",
   "metadata": {},
   "source": [
    "Check `result_MAE` and `result_RMSE` *Pandas* dataframes:"
   ]
  },
  {
   "cell_type": "code",
   "execution_count": 66,
   "id": "37a9f705",
   "metadata": {},
   "outputs": [
    {
     "data": {
      "text/html": [
       "<div>\n",
       "<style scoped>\n",
       "    .dataframe tbody tr th:only-of-type {\n",
       "        vertical-align: middle;\n",
       "    }\n",
       "\n",
       "    .dataframe tbody tr th {\n",
       "        vertical-align: top;\n",
       "    }\n",
       "\n",
       "    .dataframe thead th {\n",
       "        text-align: right;\n",
       "    }\n",
       "</style>\n",
       "<table border=\"1\" class=\"dataframe\">\n",
       "  <thead>\n",
       "    <tr style=\"text-align: right;\">\n",
       "      <th></th>\n",
       "      <th>test</th>\n",
       "      <th>model</th>\n",
       "      <th>train</th>\n",
       "    </tr>\n",
       "  </thead>\n",
       "  <tbody>\n",
       "    <tr>\n",
       "      <th>0</th>\n",
       "      <td>759.829898</td>\n",
       "      <td>linear_regression</td>\n",
       "      <td>756.726508</td>\n",
       "    </tr>\n",
       "    <tr>\n",
       "      <th>1</th>\n",
       "      <td>753.951417</td>\n",
       "      <td>decision_tree</td>\n",
       "      <td>756.704419</td>\n",
       "    </tr>\n",
       "  </tbody>\n",
       "</table>\n",
       "</div>"
      ],
      "text/plain": [
       "         test              model       train\n",
       "0  759.829898  linear_regression  756.726508\n",
       "1  753.951417      decision_tree  756.704419"
      ]
     },
     "execution_count": 66,
     "metadata": {},
     "output_type": "execute_result"
    }
   ],
   "source": [
    "result_MAE"
   ]
  },
  {
   "cell_type": "code",
   "execution_count": 67,
   "id": "8877525a",
   "metadata": {},
   "outputs": [
    {
     "data": {
      "text/html": [
       "<div>\n",
       "<style scoped>\n",
       "    .dataframe tbody tr th:only-of-type {\n",
       "        vertical-align: middle;\n",
       "    }\n",
       "\n",
       "    .dataframe tbody tr th {\n",
       "        vertical-align: top;\n",
       "    }\n",
       "\n",
       "    .dataframe thead th {\n",
       "        text-align: right;\n",
       "    }\n",
       "</style>\n",
       "<table border=\"1\" class=\"dataframe\">\n",
       "  <thead>\n",
       "    <tr style=\"text-align: right;\">\n",
       "      <th></th>\n",
       "      <th>test</th>\n",
       "      <th>model</th>\n",
       "      <th>train</th>\n",
       "    </tr>\n",
       "  </thead>\n",
       "  <tbody>\n",
       "    <tr>\n",
       "      <th>0</th>\n",
       "      <td>1247.298979</td>\n",
       "      <td>linear_regression</td>\n",
       "      <td>1079.066347</td>\n",
       "    </tr>\n",
       "    <tr>\n",
       "      <th>1</th>\n",
       "      <td>1073.751315</td>\n",
       "      <td>decision_tree</td>\n",
       "      <td>1078.967775</td>\n",
       "    </tr>\n",
       "  </tbody>\n",
       "</table>\n",
       "</div>"
      ],
      "text/plain": [
       "          test              model        train\n",
       "0  1247.298979  linear_regression  1079.066347\n",
       "1  1073.751315      decision_tree  1078.967775"
      ]
     },
     "execution_count": 67,
     "metadata": {},
     "output_type": "execute_result"
    }
   ],
   "source": [
    "result_RMSE"
   ]
  },
  {
   "cell_type": "markdown",
   "id": "71885f1a",
   "metadata": {},
   "source": [
    "## Native models:"
   ]
  },
  {
   "cell_type": "markdown",
   "id": "9e926f9c",
   "metadata": {},
   "source": [
    "Calculate mean and median of `price` on train and test data and create a columns with these values:"
   ]
  },
  {
   "cell_type": "code",
   "execution_count": 68,
   "id": "8657404c",
   "metadata": {},
   "outputs": [],
   "source": [
    "mean_train_price: float = y_train.mean()\n",
    "median_train_price: float = y_train.median()\n",
    "mean_test_price: float = y_test.mean()\n",
    "median_test_price: float = y_test.median()"
   ]
  },
  {
   "cell_type": "markdown",
   "id": "630c9be2",
   "metadata": {},
   "source": [
    "### Calculate *MAE* on train and test targets between target and calculated mean and median values:"
   ]
  },
  {
   "cell_type": "code",
   "execution_count": 69,
   "id": "f863cd44",
   "metadata": {},
   "outputs": [],
   "source": [
    "mean_train_mae: float = mean_absolute_error(\n",
    "    full(len(y_train, ), mean_train_price, ),\n",
    "    y_train,\n",
    ")\n",
    "mean_test_mae: float = mean_absolute_error(\n",
    "    full(len(y_test, ), mean_test_price, ),\n",
    "    y_test,\n",
    ")\n",
    "median_train_mae: float = mean_absolute_error(\n",
    "    full(len(y_train, ), median_train_price, ),\n",
    "    y_train,\n",
    ")\n",
    "median_test_mae: float = mean_absolute_error(\n",
    "    full(len(y_test, ), median_test_price, ),\n",
    "    y_test,\n",
    ")"
   ]
  },
  {
   "cell_type": "markdown",
   "id": "7e51b037",
   "metadata": {},
   "source": [
    "### Calculate *RMSE* on train and test targets between target and calculated mean and median values:"
   ]
  },
  {
   "cell_type": "code",
   "execution_count": 70,
   "id": "82738900",
   "metadata": {},
   "outputs": [],
   "source": [
    "mean_train_rmse: float = mean_squared_error(\n",
    "    full(len(y_train, ), mean_train_price, ),\n",
    "    y_train,\n",
    ") ** 0.5\n",
    "mean_test_rmse: float = mean_squared_error(\n",
    "    full(len(y_test, ), mean_test_price, ),\n",
    "    y_test,\n",
    ") ** 0.5\n",
    "median_train_rmse: float = mean_squared_error(\n",
    "    full(len(y_train, ), median_train_price, ),\n",
    "    y_train,\n",
    ") ** 0.5\n",
    "median_test_rmse: float = mean_squared_error(\n",
    "    full(len(y_test, ), median_test_price, ),\n",
    "    y_test,\n",
    ") ** 0.5"
   ]
  },
  {
   "cell_type": "markdown",
   "id": "7e3119f1",
   "metadata": {},
   "source": [
    "### Insert metrics into tables `result_MAE` and `result_RMSE` with model names `native_mean` and `native_median`:"
   ]
  },
  {
   "cell_type": "code",
   "execution_count": 71,
   "id": "85a07ac5",
   "metadata": {},
   "outputs": [],
   "source": [
    "result_MAE.loc[len(result_MAE, )] = [\n",
    "    mean_test_mae,\n",
    "    \"native_mean\",\n",
    "    mean_train_mae,\n",
    "]\n",
    "result_MAE.loc[len(result_MAE, )] = [\n",
    "    median_test_mae,\n",
    "    \"native_median\",\n",
    "    median_train_mae,\n",
    "]"
   ]
  },
  {
   "cell_type": "code",
   "execution_count": 72,
   "id": "7133ffa8",
   "metadata": {},
   "outputs": [],
   "source": [
    "result_RMSE.loc[len(result_RMSE, )] = [\n",
    "    mean_test_rmse,\n",
    "    \"native_mean\",\n",
    "    mean_train_rmse,\n",
    "]\n",
    "result_RMSE.loc[len(result_RMSE, )] = [\n",
    "    median_test_rmse,\n",
    "    \"native_median\",\n",
    "    median_train_rmse,\n",
    "]"
   ]
  },
  {
   "cell_type": "markdown",
   "id": "3b4f480e",
   "metadata": {},
   "source": [
    "Check `result_MAE` and `result_RMSE` *Pandas* dataframes:"
   ]
  },
  {
   "cell_type": "code",
   "execution_count": 73,
   "id": "1d6c98fa",
   "metadata": {},
   "outputs": [
    {
     "data": {
      "text/html": [
       "<div>\n",
       "<style scoped>\n",
       "    .dataframe tbody tr th:only-of-type {\n",
       "        vertical-align: middle;\n",
       "    }\n",
       "\n",
       "    .dataframe tbody tr th {\n",
       "        vertical-align: top;\n",
       "    }\n",
       "\n",
       "    .dataframe thead th {\n",
       "        text-align: right;\n",
       "    }\n",
       "</style>\n",
       "<table border=\"1\" class=\"dataframe\">\n",
       "  <thead>\n",
       "    <tr style=\"text-align: right;\">\n",
       "      <th></th>\n",
       "      <th>test</th>\n",
       "      <th>model</th>\n",
       "      <th>train</th>\n",
       "    </tr>\n",
       "  </thead>\n",
       "  <tbody>\n",
       "    <tr>\n",
       "      <th>0</th>\n",
       "      <td>759.829898</td>\n",
       "      <td>linear_regression</td>\n",
       "      <td>756.726508</td>\n",
       "    </tr>\n",
       "    <tr>\n",
       "      <th>1</th>\n",
       "      <td>753.951417</td>\n",
       "      <td>decision_tree</td>\n",
       "      <td>756.704419</td>\n",
       "    </tr>\n",
       "    <tr>\n",
       "      <th>2</th>\n",
       "      <td>1134.133499</td>\n",
       "      <td>native_mean</td>\n",
       "      <td>1140.445303</td>\n",
       "    </tr>\n",
       "    <tr>\n",
       "      <th>3</th>\n",
       "      <td>1081.216618</td>\n",
       "      <td>native_median</td>\n",
       "      <td>1087.459008</td>\n",
       "    </tr>\n",
       "  </tbody>\n",
       "</table>\n",
       "</div>"
      ],
      "text/plain": [
       "          test              model        train\n",
       "0   759.829898  linear_regression   756.726508\n",
       "1   753.951417      decision_tree   756.704419\n",
       "2  1134.133499        native_mean  1140.445303\n",
       "3  1081.216618      native_median  1087.459008"
      ]
     },
     "execution_count": 73,
     "metadata": {},
     "output_type": "execute_result"
    }
   ],
   "source": [
    "result_MAE"
   ]
  },
  {
   "cell_type": "code",
   "execution_count": 74,
   "id": "4d111892",
   "metadata": {},
   "outputs": [
    {
     "data": {
      "text/html": [
       "<div>\n",
       "<style scoped>\n",
       "    .dataframe tbody tr th:only-of-type {\n",
       "        vertical-align: middle;\n",
       "    }\n",
       "\n",
       "    .dataframe tbody tr th {\n",
       "        vertical-align: top;\n",
       "    }\n",
       "\n",
       "    .dataframe thead th {\n",
       "        text-align: right;\n",
       "    }\n",
       "</style>\n",
       "<table border=\"1\" class=\"dataframe\">\n",
       "  <thead>\n",
       "    <tr style=\"text-align: right;\">\n",
       "      <th></th>\n",
       "      <th>test</th>\n",
       "      <th>model</th>\n",
       "      <th>train</th>\n",
       "    </tr>\n",
       "  </thead>\n",
       "  <tbody>\n",
       "    <tr>\n",
       "      <th>0</th>\n",
       "      <td>1247.298979</td>\n",
       "      <td>linear_regression</td>\n",
       "      <td>1079.066347</td>\n",
       "    </tr>\n",
       "    <tr>\n",
       "      <th>1</th>\n",
       "      <td>1073.751315</td>\n",
       "      <td>decision_tree</td>\n",
       "      <td>1078.967775</td>\n",
       "    </tr>\n",
       "    <tr>\n",
       "      <th>2</th>\n",
       "      <td>1594.366370</td>\n",
       "      <td>native_mean</td>\n",
       "      <td>1598.460491</td>\n",
       "    </tr>\n",
       "    <tr>\n",
       "      <th>3</th>\n",
       "      <td>1639.336503</td>\n",
       "      <td>native_median</td>\n",
       "      <td>1645.459174</td>\n",
       "    </tr>\n",
       "  </tbody>\n",
       "</table>\n",
       "</div>"
      ],
      "text/plain": [
       "          test              model        train\n",
       "0  1247.298979  linear_regression  1079.066347\n",
       "1  1073.751315      decision_tree  1078.967775\n",
       "2  1594.366370        native_mean  1598.460491\n",
       "3  1639.336503      native_median  1645.459174"
      ]
     },
     "execution_count": 74,
     "metadata": {},
     "output_type": "execute_result"
    }
   ],
   "source": [
    "result_RMSE"
   ]
  },
  {
   "cell_type": "markdown",
   "id": "64629290",
   "metadata": {},
   "source": [
    "## Compare results:"
   ]
  },
  {
   "cell_type": "markdown",
   "id": "acb7948c",
   "metadata": {},
   "source": [
    "### Print final tables `result_MAE` and `result_RMSE`:"
   ]
  },
  {
   "cell_type": "code",
   "execution_count": 75,
   "id": "15765b04",
   "metadata": {},
   "outputs": [
    {
     "data": {
      "text/html": [
       "<div>\n",
       "<style scoped>\n",
       "    .dataframe tbody tr th:only-of-type {\n",
       "        vertical-align: middle;\n",
       "    }\n",
       "\n",
       "    .dataframe tbody tr th {\n",
       "        vertical-align: top;\n",
       "    }\n",
       "\n",
       "    .dataframe thead th {\n",
       "        text-align: right;\n",
       "    }\n",
       "</style>\n",
       "<table border=\"1\" class=\"dataframe\">\n",
       "  <thead>\n",
       "    <tr style=\"text-align: right;\">\n",
       "      <th></th>\n",
       "      <th>test</th>\n",
       "      <th>model</th>\n",
       "      <th>train</th>\n",
       "    </tr>\n",
       "  </thead>\n",
       "  <tbody>\n",
       "    <tr>\n",
       "      <th>0</th>\n",
       "      <td>759.829898</td>\n",
       "      <td>linear_regression</td>\n",
       "      <td>756.726508</td>\n",
       "    </tr>\n",
       "    <tr>\n",
       "      <th>1</th>\n",
       "      <td>753.951417</td>\n",
       "      <td>decision_tree</td>\n",
       "      <td>756.704419</td>\n",
       "    </tr>\n",
       "    <tr>\n",
       "      <th>2</th>\n",
       "      <td>1134.133499</td>\n",
       "      <td>native_mean</td>\n",
       "      <td>1140.445303</td>\n",
       "    </tr>\n",
       "    <tr>\n",
       "      <th>3</th>\n",
       "      <td>1081.216618</td>\n",
       "      <td>native_median</td>\n",
       "      <td>1087.459008</td>\n",
       "    </tr>\n",
       "  </tbody>\n",
       "</table>\n",
       "</div>"
      ],
      "text/plain": [
       "          test              model        train\n",
       "0   759.829898  linear_regression   756.726508\n",
       "1   753.951417      decision_tree   756.704419\n",
       "2  1134.133499        native_mean  1140.445303\n",
       "3  1081.216618      native_median  1087.459008"
      ]
     },
     "execution_count": 75,
     "metadata": {},
     "output_type": "execute_result"
    }
   ],
   "source": [
    "result_MAE"
   ]
  },
  {
   "cell_type": "code",
   "execution_count": 76,
   "id": "681a7d76",
   "metadata": {},
   "outputs": [
    {
     "data": {
      "text/html": [
       "<div>\n",
       "<style scoped>\n",
       "    .dataframe tbody tr th:only-of-type {\n",
       "        vertical-align: middle;\n",
       "    }\n",
       "\n",
       "    .dataframe tbody tr th {\n",
       "        vertical-align: top;\n",
       "    }\n",
       "\n",
       "    .dataframe thead th {\n",
       "        text-align: right;\n",
       "    }\n",
       "</style>\n",
       "<table border=\"1\" class=\"dataframe\">\n",
       "  <thead>\n",
       "    <tr style=\"text-align: right;\">\n",
       "      <th></th>\n",
       "      <th>test</th>\n",
       "      <th>model</th>\n",
       "      <th>train</th>\n",
       "    </tr>\n",
       "  </thead>\n",
       "  <tbody>\n",
       "    <tr>\n",
       "      <th>0</th>\n",
       "      <td>1247.298979</td>\n",
       "      <td>linear_regression</td>\n",
       "      <td>1079.066347</td>\n",
       "    </tr>\n",
       "    <tr>\n",
       "      <th>1</th>\n",
       "      <td>1073.751315</td>\n",
       "      <td>decision_tree</td>\n",
       "      <td>1078.967775</td>\n",
       "    </tr>\n",
       "    <tr>\n",
       "      <th>2</th>\n",
       "      <td>1594.366370</td>\n",
       "      <td>native_mean</td>\n",
       "      <td>1598.460491</td>\n",
       "    </tr>\n",
       "    <tr>\n",
       "      <th>3</th>\n",
       "      <td>1639.336503</td>\n",
       "      <td>native_median</td>\n",
       "      <td>1645.459174</td>\n",
       "    </tr>\n",
       "  </tbody>\n",
       "</table>\n",
       "</div>"
      ],
      "text/plain": [
       "          test              model        train\n",
       "0  1247.298979  linear_regression  1079.066347\n",
       "1  1073.751315      decision_tree  1078.967775\n",
       "2  1594.366370        native_mean  1598.460491\n",
       "3  1639.336503      native_median  1645.459174"
      ]
     },
     "execution_count": 76,
     "metadata": {},
     "output_type": "execute_result"
    }
   ],
   "source": [
    "result_RMSE"
   ]
  },
  {
   "cell_type": "markdown",
   "id": "50e8d7e4",
   "metadata": {},
   "source": [
    "### `What is the best model?`"
   ]
  },
  {
   "cell_type": "markdown",
   "id": "842f7706",
   "metadata": {},
   "source": [
    "Answer: the best model is `decision tree`."
   ]
  },
  {
   "cell_type": "markdown",
   "id": "63850872",
   "metadata": {},
   "source": [
    "## Additional:"
   ]
  },
  {
   "cell_type": "markdown",
   "id": "7068c6e7",
   "metadata": {},
   "source": [
    "Initialize *XGBRegression*:"
   ]
  },
  {
   "cell_type": "code",
   "execution_count": 77,
   "id": "1ae66f5b",
   "metadata": {},
   "outputs": [],
   "source": [
    "xgb_model: XGBRegressor = XGBRegressor(n_estimators=500, )"
   ]
  },
  {
   "cell_type": "markdown",
   "id": "c71115fb",
   "metadata": {},
   "source": [
    "Fit `xgb_model` and make predict on train and test data:"
   ]
  },
  {
   "cell_type": "code",
   "execution_count": 78,
   "id": "655d64b0",
   "metadata": {},
   "outputs": [],
   "source": [
    "xgb_model.fit(X_train_poly, y_train, );"
   ]
  },
  {
   "cell_type": "markdown",
   "id": "82f4ef4c",
   "metadata": {},
   "source": [
    "Get `xgb_model` predictions:"
   ]
  },
  {
   "cell_type": "code",
   "execution_count": 79,
   "id": "debe0eb7",
   "metadata": {},
   "outputs": [],
   "source": [
    "xgb_preds: array = xgb_model.predict(X_test_poly, );"
   ]
  },
  {
   "cell_type": "markdown",
   "id": "100fc4bc",
   "metadata": {},
   "source": [
    "Check `xgb_preds` *NumPy* array:"
   ]
  },
  {
   "cell_type": "code",
   "execution_count": 80,
   "id": "cb70a992",
   "metadata": {},
   "outputs": [
    {
     "data": {
      "text/plain": [
       "array([3200.3357, 2474.748 , 2474.748 , ..., 3038.0962, 5232.6626,\n",
       "       3200.3357], shape=(9676,), dtype=float32)"
      ]
     },
     "execution_count": 80,
     "metadata": {},
     "output_type": "execute_result"
    }
   ],
   "source": [
    "xgb_preds"
   ]
  },
  {
   "cell_type": "markdown",
   "id": "2d11348a",
   "metadata": {},
   "source": [
    "Calculate *MAE* (Mean Absolute Error) on train and test targets:"
   ]
  },
  {
   "cell_type": "code",
   "execution_count": 81,
   "id": "40ba1cc1",
   "metadata": {},
   "outputs": [],
   "source": [
    "xgb_model_train_mae: float = mean_absolute_error(\n",
    "    y_train,\n",
    "    xgb_model.predict(X_train_poly, ),\n",
    ")\n",
    "xgb_model_test_mae: float = mean_absolute_error(\n",
    "    y_test,\n",
    "    xgb_model.predict(X_test_poly, ),\n",
    ")"
   ]
  },
  {
   "cell_type": "markdown",
   "id": "49400aa9",
   "metadata": {},
   "source": [
    "Calculate *RMSE* (Root Mean Square Error) on train and test targets:"
   ]
  },
  {
   "cell_type": "code",
   "execution_count": 82,
   "id": "86760dc1",
   "metadata": {},
   "outputs": [],
   "source": [
    "xgb_model_train_rmse: float = mean_squared_error(\n",
    "    y_train,\n",
    "    xgb_model.predict(X_train_poly, ),\n",
    ") ** 0.5\n",
    "xgb_model_test_rmse: float = mean_squared_error(\n",
    "    y_test,\n",
    "    xgb_model.predict(X_test_poly, ),\n",
    ") ** 0.5"
   ]
  },
  {
   "cell_type": "markdown",
   "id": "d9e4bd5b",
   "metadata": {},
   "source": [
    "Insert metrics into tables *result_MAE* and *result_RMSE* with model name `xgb`:"
   ]
  },
  {
   "cell_type": "code",
   "execution_count": 83,
   "id": "272512d8",
   "metadata": {},
   "outputs": [],
   "source": [
    "result_MAE.loc[len(result_MAE, )] = [\n",
    "    xgb_model_test_mae,\n",
    "    \"xgb\",\n",
    "    xgb_model_train_mae,\n",
    "]"
   ]
  },
  {
   "cell_type": "code",
   "execution_count": 84,
   "id": "bb086a22",
   "metadata": {},
   "outputs": [],
   "source": [
    "result_RMSE.loc[len(result_RMSE, )] = [\n",
    "    xgb_model_test_rmse,\n",
    "    \"xgb\",\n",
    "    xgb_model_train_rmse,\n",
    "]"
   ]
  },
  {
   "cell_type": "markdown",
   "id": "6db858ba",
   "metadata": {},
   "source": [
    "Check `result_MAE` and `result_RMSE` *Pandas* dataframes:"
   ]
  },
  {
   "cell_type": "code",
   "execution_count": 85,
   "id": "5b4a591e",
   "metadata": {},
   "outputs": [
    {
     "data": {
      "text/html": [
       "<div>\n",
       "<style scoped>\n",
       "    .dataframe tbody tr th:only-of-type {\n",
       "        vertical-align: middle;\n",
       "    }\n",
       "\n",
       "    .dataframe tbody tr th {\n",
       "        vertical-align: top;\n",
       "    }\n",
       "\n",
       "    .dataframe thead th {\n",
       "        text-align: right;\n",
       "    }\n",
       "</style>\n",
       "<table border=\"1\" class=\"dataframe\">\n",
       "  <thead>\n",
       "    <tr style=\"text-align: right;\">\n",
       "      <th></th>\n",
       "      <th>test</th>\n",
       "      <th>model</th>\n",
       "      <th>train</th>\n",
       "    </tr>\n",
       "  </thead>\n",
       "  <tbody>\n",
       "    <tr>\n",
       "      <th>0</th>\n",
       "      <td>759.829898</td>\n",
       "      <td>linear_regression</td>\n",
       "      <td>756.726508</td>\n",
       "    </tr>\n",
       "    <tr>\n",
       "      <th>1</th>\n",
       "      <td>753.951417</td>\n",
       "      <td>decision_tree</td>\n",
       "      <td>756.704419</td>\n",
       "    </tr>\n",
       "    <tr>\n",
       "      <th>2</th>\n",
       "      <td>1134.133499</td>\n",
       "      <td>native_mean</td>\n",
       "      <td>1140.445303</td>\n",
       "    </tr>\n",
       "    <tr>\n",
       "      <th>3</th>\n",
       "      <td>1081.216618</td>\n",
       "      <td>native_median</td>\n",
       "      <td>1087.459008</td>\n",
       "    </tr>\n",
       "    <tr>\n",
       "      <th>4</th>\n",
       "      <td>754.086182</td>\n",
       "      <td>xgb</td>\n",
       "      <td>756.704468</td>\n",
       "    </tr>\n",
       "  </tbody>\n",
       "</table>\n",
       "</div>"
      ],
      "text/plain": [
       "          test              model        train\n",
       "0   759.829898  linear_regression   756.726508\n",
       "1   753.951417      decision_tree   756.704419\n",
       "2  1134.133499        native_mean  1140.445303\n",
       "3  1081.216618      native_median  1087.459008\n",
       "4   754.086182                xgb   756.704468"
      ]
     },
     "execution_count": 85,
     "metadata": {},
     "output_type": "execute_result"
    }
   ],
   "source": [
    "result_MAE"
   ]
  },
  {
   "cell_type": "code",
   "execution_count": 86,
   "id": "27506f0c",
   "metadata": {},
   "outputs": [
    {
     "data": {
      "text/html": [
       "<div>\n",
       "<style scoped>\n",
       "    .dataframe tbody tr th:only-of-type {\n",
       "        vertical-align: middle;\n",
       "    }\n",
       "\n",
       "    .dataframe tbody tr th {\n",
       "        vertical-align: top;\n",
       "    }\n",
       "\n",
       "    .dataframe thead th {\n",
       "        text-align: right;\n",
       "    }\n",
       "</style>\n",
       "<table border=\"1\" class=\"dataframe\">\n",
       "  <thead>\n",
       "    <tr style=\"text-align: right;\">\n",
       "      <th></th>\n",
       "      <th>test</th>\n",
       "      <th>model</th>\n",
       "      <th>train</th>\n",
       "    </tr>\n",
       "  </thead>\n",
       "  <tbody>\n",
       "    <tr>\n",
       "      <th>0</th>\n",
       "      <td>1247.298979</td>\n",
       "      <td>linear_regression</td>\n",
       "      <td>1079.066347</td>\n",
       "    </tr>\n",
       "    <tr>\n",
       "      <th>1</th>\n",
       "      <td>1073.751315</td>\n",
       "      <td>decision_tree</td>\n",
       "      <td>1078.967775</td>\n",
       "    </tr>\n",
       "    <tr>\n",
       "      <th>2</th>\n",
       "      <td>1594.366370</td>\n",
       "      <td>native_mean</td>\n",
       "      <td>1598.460491</td>\n",
       "    </tr>\n",
       "    <tr>\n",
       "      <th>3</th>\n",
       "      <td>1639.336503</td>\n",
       "      <td>native_median</td>\n",
       "      <td>1645.459174</td>\n",
       "    </tr>\n",
       "    <tr>\n",
       "      <th>4</th>\n",
       "      <td>1074.200691</td>\n",
       "      <td>xgb</td>\n",
       "      <td>1078.967736</td>\n",
       "    </tr>\n",
       "  </tbody>\n",
       "</table>\n",
       "</div>"
      ],
      "text/plain": [
       "          test              model        train\n",
       "0  1247.298979  linear_regression  1079.066347\n",
       "1  1073.751315      decision_tree  1078.967775\n",
       "2  1594.366370        native_mean  1598.460491\n",
       "3  1639.336503      native_median  1645.459174\n",
       "4  1074.200691                xgb  1078.967736"
      ]
     },
     "execution_count": 86,
     "metadata": {},
     "output_type": "execute_result"
    }
   ],
   "source": [
    "result_RMSE"
   ]
  }
 ],
 "metadata": {
  "kernelspec": {
   "display_name": ".venv",
   "language": "python",
   "name": "python3"
  },
  "language_info": {
   "codemirror_mode": {
    "name": "ipython",
    "version": 3
   },
   "file_extension": ".py",
   "mimetype": "text/x-python",
   "name": "python",
   "nbconvert_exporter": "python",
   "pygments_lexer": "ipython3",
   "version": "3.12.6"
  }
 },
 "nbformat": 4,
 "nbformat_minor": 5
}
